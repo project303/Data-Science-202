{
  "cells": [
    {
      "cell_type": "markdown",
      "metadata": {
        "id": "0xy0wxPZ4_lq"
      },
      "source": [
        "## Persiapan Dataset"
      ]
    },
    {
      "cell_type": "code",
      "execution_count": null,
      "metadata": {
        "id": "-V_le2jH491S"
      },
      "outputs": [],
      "source": [
        "! wget https://www.dropbox.com/s/9bfx2ojb6l4uqen/www-usage.csv"
      ]
    },
    {
      "cell_type": "code",
      "execution_count": null,
      "metadata": {
        "id": "SB3CevVp5Dtt"
      },
      "outputs": [],
      "source": [
        "! head www-usage.csv"
      ]
    },
    {
      "cell_type": "code",
      "execution_count": null,
      "metadata": {
        "id": "ETZd4PgD5JLK"
      },
      "outputs": [],
      "source": [
        "from datetime import datetime\n",
        "import numpy as np\n",
        "import pandas as pd\n",
        "import matplotlib.pyplot  as  plt\n",
        "from sklearn.metrics import mean_squared_error\n",
        "from math import sqrt\n",
        "\n",
        "# from statsmodels.tsa.arima.model import ARIMA\n",
        "from statsmodels.tsa.arima_model import ARIMA"
      ]
    },
    {
      "cell_type": "code",
      "execution_count": null,
      "metadata": {
        "id": "2fXLM0ba5Mxy"
      },
      "outputs": [],
      "source": [
        "df = pd.read_csv(\"www-usage.csv\", header=0)"
      ]
    },
    {
      "cell_type": "code",
      "execution_count": null,
      "metadata": {
        "id": "jKP81tBJ5S3g"
      },
      "outputs": [],
      "source": [
        "df_usage = df[[\"time\", \"usage\"]].copy()"
      ]
    },
    {
      "cell_type": "code",
      "execution_count": null,
      "metadata": {
        "id": "qC99tPzb5Yez"
      },
      "outputs": [],
      "source": [
        "df_usage.head(5)"
      ]
    },
    {
      "cell_type": "code",
      "execution_count": null,
      "metadata": {
        "id": "deP5Evlf5bJH"
      },
      "outputs": [],
      "source": [
        "df_usage.shape[0]"
      ]
    },
    {
      "cell_type": "markdown",
      "metadata": {
        "id": "9TGceZUk7Q3s"
      },
      "source": [
        "## Split Dataset"
      ]
    },
    {
      "cell_type": "code",
      "execution_count": null,
      "metadata": {
        "id": "0TS53TqM7Te8"
      },
      "outputs": [],
      "source": [
        "size = int(df_usage.shape[0] * 0.85)"
      ]
    },
    {
      "cell_type": "code",
      "execution_count": null,
      "metadata": {
        "id": "DMi7_g177c41"
      },
      "outputs": [],
      "source": [
        "print(\"Total no of records : \",df_usage.shape[0])\n",
        "print(\"Number of training records : \",size)"
      ]
    },
    {
      "cell_type": "code",
      "execution_count": null,
      "metadata": {
        "id": "Oj8p3H_o5dWz"
      },
      "outputs": [],
      "source": [
        "#df_train = df_clean[:size]\n",
        "#df_test = df_clean[size:]"
      ]
    },
    {
      "cell_type": "code",
      "source": [
        "ts_usage = df_usage['usage']\n",
        "ts_usage.head()"
      ],
      "metadata": {
        "id": "XniKcUqvPJqV"
      },
      "execution_count": null,
      "outputs": []
    },
    {
      "cell_type": "code",
      "execution_count": null,
      "metadata": {
        "id": "gUDQwC8R7rhh"
      },
      "outputs": [],
      "source": [
        "ts_train = ts_usage[:size]\n",
        "ts_test = ts_usage[size:]"
      ]
    },
    {
      "cell_type": "code",
      "source": [
        "plt.figure(figsize=(20,5))\n",
        "plt.plot(ts_train, label='training', color='blue')\n",
        "plt.plot(ts_test, label='test', color='green')\n",
        "plt.grid()\n",
        "plt.xticks(rotation=90)\n",
        "plt.show()"
      ],
      "metadata": {
        "id": "1cUr7upjPaC9"
      },
      "execution_count": null,
      "outputs": []
    },
    {
      "cell_type": "markdown",
      "metadata": {
        "id": "MViAd6NE73aF"
      },
      "source": [
        "## Training & Test Model"
      ]
    },
    {
      "cell_type": "code",
      "execution_count": null,
      "metadata": {
        "id": "5fBuJpqL76Oy"
      },
      "outputs": [],
      "source": [
        "model = ARIMA(ts_train, order=(3,2,1))\n",
        "model_arima = model.fit()"
      ]
    },
    {
      "cell_type": "code",
      "source": [
        "print(model_arima.summary())"
      ],
      "metadata": {
        "id": "8on7BlOXuhcv"
      },
      "execution_count": null,
      "outputs": []
    },
    {
      "cell_type": "code",
      "source": [
        "ts_test.shape[0]"
      ],
      "metadata": {
        "id": "f6wpqowgPvq9"
      },
      "execution_count": null,
      "outputs": []
    },
    {
      "cell_type": "code",
      "source": [
        "# data_test = df_test['usage']\n",
        "\n",
        "fc = model_arima.forecast(ts_test.shape[0], alpha=0.05)\n",
        "fc_series = pd.Series(fc[0], index=ts_test.index)\n",
        "    \n",
        "# Plot\n",
        "plt.figure(figsize=(12,6), dpi=100)\n",
        "plt.plot(ts_train, label='training')\n",
        "plt.plot(ts_test, label='actual')\n",
        "plt.plot(fc_series, label='forecast', color='red')\n",
        "\n",
        "plt.title('ARIMA Forecasting')\n",
        "plt.show()\n",
        "\n"
      ],
      "metadata": {
        "id": "fUu43ishuZ6S"
      },
      "execution_count": null,
      "outputs": []
    },
    {
      "cell_type": "code",
      "source": [
        ""
      ],
      "metadata": {
        "id": "gKt5qbMT5Id9"
      },
      "execution_count": null,
      "outputs": []
    },
    {
      "cell_type": "markdown",
      "source": [
        "## Penggunaan Grid Serach"
      ],
      "metadata": {
        "id": "F1d4s8gg5Rte"
      }
    },
    {
      "cell_type": "markdown",
      "source": [
        "Metode ini mencari model terbaik dengan menguji coba setiap parameter p,d,q"
      ],
      "metadata": {
        "id": "gjV3G2649KB-"
      }
    },
    {
      "cell_type": "code",
      "source": [
        "def forecast(model, train_data, test_data, title='ARIMA Forecasting'):\n",
        "    \n",
        "    fc = model.forecast(test_data.shape[0], alpha=0.05)\n",
        "    fc_series = pd.Series(fc[0], index=test_data.index)\n",
        "    \n",
        "    # Plot\n",
        "    plt.figure(figsize=(12,6), dpi=100)\n",
        "    plt.plot(train_data, label='training')\n",
        "    plt.plot(test_data, label='actual')\n",
        "    plt.plot(fc_series, label='forecast', color='red')\n",
        "\n",
        "    plt.title(title)\n",
        "    plt.show()"
      ],
      "metadata": {
        "id": "a3wExMrD54Cw"
      },
      "execution_count": null,
      "outputs": []
    },
    {
      "cell_type": "markdown",
      "source": [
        "Error metriks yang digunakan adalah RMSE"
      ],
      "metadata": {
        "id": "SQsxtK7c-MTE"
      }
    },
    {
      "cell_type": "code",
      "source": [
        "import warnings\n",
        "\n",
        "def evaluate_arima_model(data_train, data_test, arima_order):\n",
        "\n",
        "    model = ARIMA(data_train, order=arima_order)\n",
        "    model_fit = model.fit()\n",
        "    fc = model_fit.forecast(data_test.size, alpha=0.05)\n",
        "    fc_series = pd.Series(fc[0], index=data_test.index)\n",
        "\n",
        "    rmse = sqrt(mean_squared_error(data_test, fc_series))\n",
        "    #rmse = model_fit.aic\n",
        "\n",
        "    return rmse"
      ],
      "metadata": {
        "id": "bR1VuTv_5IZl"
      },
      "execution_count": null,
      "outputs": []
    },
    {
      "cell_type": "code",
      "source": [
        "def evaluate_models(data_train, data_test, p_values, d_values, q_values):\n",
        "\t\n",
        "\tbest_score, best_cfg = float(\"inf\"), None\n",
        "\tfor p in p_values:\n",
        "\t\tfor d in d_values:\n",
        "\t\t\tfor q in q_values:\n",
        "\t\t\t\torder = (p,d,q)\n",
        "\t\t\t\ttry:\n",
        "\t\t\t\t\trmse = evaluate_arima_model(data_train, data_test, order)\n",
        "\t\t\t\t\tif rmse < best_score:\n",
        "\t\t\t\t\t\tbest_score, best_cfg = rmse, order\n",
        "\t\t\t\t\tprint('ARIMA%s RMSE=%.3f' % (order,rmse))\n",
        "\t\t\t\texcept:\n",
        "\t\t\t\t\tcontinue\n",
        "\tprint('Best ARIMA%s RMSE=%.3f' % (best_cfg, best_score))"
      ],
      "metadata": {
        "id": "9y0lllTI5IKz"
      },
      "execution_count": null,
      "outputs": []
    },
    {
      "cell_type": "code",
      "source": [
        "p_values = [0, 1, 2, 3, 4]\n",
        "d_values = range(0, 3)\n",
        "q_values = range(0, 3)\n",
        "warnings.filterwarnings(\"ignore\")\n",
        "evaluate_models(ts_train, ts_test, p_values, d_values, q_values)"
      ],
      "metadata": {
        "id": "xxz39v3H5IGa"
      },
      "execution_count": null,
      "outputs": []
    },
    {
      "cell_type": "code",
      "source": [
        "model = ARIMA(ts_train, order=(4,2,2))\n",
        "model_arima = model.fit()"
      ],
      "metadata": {
        "id": "WwQ35XV36CB_"
      },
      "execution_count": null,
      "outputs": []
    },
    {
      "cell_type": "code",
      "source": [
        "forecast(model_arima, ts_train, ts_test)"
      ],
      "metadata": {
        "id": "ia_7mcL16B98"
      },
      "execution_count": null,
      "outputs": []
    },
    {
      "cell_type": "code",
      "source": [
        ""
      ],
      "metadata": {
        "id": "nr-iyfh87exd"
      },
      "execution_count": null,
      "outputs": []
    }
  ],
  "metadata": {
    "colab": {
      "name": "07 - ARIMA Model Selection v1.5.ipynb",
      "provenance": [],
      "collapsed_sections": []
    },
    "kernelspec": {
      "display_name": "Python 3",
      "name": "python3"
    },
    "language_info": {
      "name": "python"
    }
  },
  "nbformat": 4,
  "nbformat_minor": 0
}