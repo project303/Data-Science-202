{
  "nbformat": 4,
  "nbformat_minor": 0,
  "metadata": {
    "colab": {
      "name": "01 - Pandas Essentials - Notebook companion.ipynb",
      "provenance": [],
      "collapsed_sections": []
    },
    "kernelspec": {
      "name": "python3",
      "display_name": "Python 3"
    },
    "language_info": {
      "name": "python"
    }
  },
  "cells": [
    {
      "cell_type": "markdown",
      "source": [
        "Notebook companion for _**\"Pandas Essentials\"**_ modul"
      ],
      "metadata": {
        "id": "jsh2MsNZITGR"
      }
    },
    {
      "cell_type": "code",
      "execution_count": null,
      "metadata": {
        "id": "AutNuxe-gv2-"
      },
      "outputs": [],
      "source": [
        "#import packages\n",
        "import pandas as pd\n",
        "import numpy as np\n",
        "import matplotlib.pyplot as plt\n",
        "import seaborn as sns"
      ]
    },
    {
      "cell_type": "markdown",
      "source": [
        "#Series"
      ],
      "metadata": {
        "id": "Hf9HzKysg8MD"
      }
    },
    {
      "cell_type": "markdown",
      "source": [
        "##Creating Series"
      ],
      "metadata": {
        "id": "rhsttxa1fYwR"
      }
    },
    {
      "cell_type": "code",
      "source": [
        "#Empty Series\n",
        "s = pd.Series(name = \"Empty Series\")\n",
        "s"
      ],
      "metadata": {
        "id": "Esic2FWrg7Jl"
      },
      "execution_count": null,
      "outputs": []
    },
    {
      "cell_type": "code",
      "source": [
        "#Create from Dictionary\n",
        "d = {\"apples\": 10, \"bananas\": 20, \"cherry\": 50}\n",
        "s = pd.Series(d, name=\"Fruit Series\")\n",
        "s"
      ],
      "metadata": {
        "id": "9rQ9yS0NhVkK"
      },
      "execution_count": null,
      "outputs": []
    },
    {
      "cell_type": "code",
      "source": [
        "#Create from file\n",
        "filename = 'https://raw.githubusercontent.com/urfie/DataAnalytics/main/fruits_data.csv'\n",
        "fs = pd.read_csv(filename, squeeze=True, index_col=0)\n",
        "fs"
      ],
      "metadata": {
        "id": "6batRPIFhDIY"
      },
      "execution_count": null,
      "outputs": []
    },
    {
      "cell_type": "markdown",
      "source": [
        "##Series Operations"
      ],
      "metadata": {
        "id": "8JELo5BxfdNQ"
      }
    },
    {
      "cell_type": "code",
      "source": [
        "#Series operations\n",
        "fs['cherry']+=5        #updating an item\n",
        "print('grape' in fs)     #check membership\n",
        "print(fs/10)             #math operation\n",
        "print(max(fs))            #max, min, avg\n"
      ],
      "metadata": {
        "id": "UV2vr9-aynHu"
      },
      "execution_count": null,
      "outputs": []
    },
    {
      "cell_type": "code",
      "source": [
        "#Operation between Series\n",
        "qty = pd.Series({\"apple\":10, \"banana\":20, \"cherry\":50})\n",
        "price = pd.Series({\"apple\":100, \"banana\":120, \"cherry\":500})\n",
        "\n",
        "qty*price"
      ],
      "metadata": {
        "id": "7ciJ2lY_y43D"
      },
      "execution_count": null,
      "outputs": []
    },
    {
      "cell_type": "code",
      "source": [
        "#implicit access\n",
        "filename = 'https://raw.githubusercontent.com/urfie/DataAnalytics/main/fruits_data.csv'\n",
        "fs = pd.read_csv(filename, squeeze=True, index_col=0)\n",
        "\n",
        "print(fs)\n",
        "print(\"\\nvalue at integer location 2\\t = \",fs[2]) \n",
        "print(\"value at index='banana'\\t\\t = \",fs['banana']) "
      ],
      "metadata": {
        "id": "CUtUaCUE1iLs"
      },
      "execution_count": null,
      "outputs": []
    },
    {
      "cell_type": "code",
      "source": [
        "#Explicit access with loc & iloc\n",
        "mynumbers = ['zero', 'one', 'two', 'three']\n",
        "myindex = [2,6,5,4]\n",
        "mySeries = pd.Series(data=mynumbers, index=myindex)\n",
        "print(mySeries)\n",
        "\n",
        "print(\"\\nvalue at index=2\\t\\t=\",mySeries.loc[2]) \n",
        "print(\"value at integer location=2\\t=\",mySeries.iloc[2])"
      ],
      "metadata": {
        "id": "IiN0btVX4CVE"
      },
      "execution_count": null,
      "outputs": []
    },
    {
      "cell_type": "markdown",
      "source": [
        "#DataFrame"
      ],
      "metadata": {
        "id": "tZpgI4s31W16"
      }
    },
    {
      "cell_type": "markdown",
      "source": [
        "##Creating DataFrame"
      ],
      "metadata": {
        "id": "7Zs1l_bPfgiU"
      }
    },
    {
      "cell_type": "code",
      "source": [
        "#empty dataframe\n",
        "s = pd.DataFrame()\n",
        "s"
      ],
      "metadata": {
        "id": "W83qSDDo1TNZ"
      },
      "execution_count": null,
      "outputs": []
    },
    {
      "cell_type": "code",
      "source": [
        "#create from dictionary\n",
        "f = {'name':[\"apple\",\"banana\",\"cherry\",\"pear\"],\n",
        "     'quantity':[10, 20, 50, 30],\n",
        "     'price':[1000,500,750,900]}\n",
        "\n",
        "pd.DataFrame(f)"
      ],
      "metadata": {
        "id": "YU3lY-MGR9xl"
      },
      "execution_count": null,
      "outputs": []
    },
    {
      "cell_type": "code",
      "source": [
        "#create from dictionary of Series\n",
        "s1 = pd.Series({\"apple\":10,\"banana\":20,\n",
        "\"cherry\":50,\"pear\":30})\n",
        "s2 = pd.Series({\"apple\":1000,\"banana\":500,\n",
        "\"cherry\":750,\"pear\":900})\n",
        "pd.DataFrame({\"price\":s1,\"quantity\":s2})"
      ],
      "metadata": {
        "id": "9MseAhfXSK8f"
      },
      "execution_count": null,
      "outputs": []
    },
    {
      "cell_type": "code",
      "source": [
        "#Loading from file\n",
        "filename = 'https://raw.githubusercontent.com/urfie/DataAnalytics/main/fruits_data.csv'\n",
        "df = pd.read_csv(filename)\n",
        "df"
      ],
      "metadata": {
        "id": "H7I9n60ESVvi"
      },
      "execution_count": null,
      "outputs": []
    },
    {
      "cell_type": "markdown",
      "source": [
        "##Quick Checking"
      ],
      "metadata": {
        "id": "rpeksgmCEG0U"
      }
    },
    {
      "cell_type": "code",
      "source": [
        "#DataFrame quick checking methods and attributes\n",
        "\n",
        "f = {'name':[\"apple\",\"banana\",\"cherry\",\"pear\"],\n",
        "     'quantity':[10, 20, 50, None],\n",
        "     'price':[1000,500,750,900]}\n",
        "df = pd.DataFrame(f, index=[5,6,7,8])\n",
        "\n",
        "print(\"\\nGet the first 10 rows : df.head()\")\n",
        "print(df.head())\n",
        "\n",
        "print(\"\\nGet the last 10 rows : df.tail()\")\n",
        "print(df.tail())\n",
        "\n",
        "print(\"\\nShow dataframe info : df.info()\")\n",
        "print(df.info())\n",
        "\n",
        "print(\"\\nShow dataframe shape : df.shape\")\n",
        "print(df.shape)\n",
        "\n",
        "print(\"\\nGet dataframe columns : df.columns\")\n",
        "print(df.columns)"
      ],
      "metadata": {
        "id": "FD5X_YMjyrQI"
      },
      "execution_count": null,
      "outputs": []
    },
    {
      "cell_type": "markdown",
      "source": [
        "###Descriptive Statistics"
      ],
      "metadata": {
        "id": "URTiNfG7PN58"
      }
    },
    {
      "cell_type": "code",
      "source": [
        "print(df)\n",
        "print(\"\\nRow count :\\n\",df.count())\n",
        "print(\"\\nAverage of quantity :\", df['quantity'].mean())\n",
        "print(\"\\nMin of price :\", df['price'].min())\n",
        "print(\"\\nMax of name :\", df['name'].max())"
      ],
      "metadata": {
        "id": "xJS8ZWW-PQrV"
      },
      "execution_count": null,
      "outputs": []
    },
    {
      "cell_type": "code",
      "source": [
        "#descriptive statistics\n",
        "print(\"\\nDescriptive statistics : df.describe()\")\n",
        "print(df.describe())"
      ],
      "metadata": {
        "id": "gm8U-rMSzM-C"
      },
      "execution_count": null,
      "outputs": []
    },
    {
      "cell_type": "markdown",
      "source": [
        "##Accessing DataFrame"
      ],
      "metadata": {
        "id": "3DWo4zkQfnTh"
      }
    },
    {
      "cell_type": "code",
      "source": [
        "#Implicit access : df[]\n",
        "\n",
        "f = {'name':[\"apple\",\"banana\",\"cherry\",\"pear\"],\n",
        "     'quantity':[10, 20, 50, 30],\n",
        "     'price':[1000,500,750,900]}\n",
        "df = pd.DataFrame(f, index=[5,4,3,2])\n",
        "print(df)\n",
        "\n",
        "print(\"\\nAccessing column : df['name']\")\n",
        "print(df[\"name\"]) \n",
        "\n",
        "print(\"\\nAccessing (slicing) by integer location : df[:2]\")\n",
        "print(df[:2])"
      ],
      "metadata": {
        "id": "rrAEuhv0S4vr"
      },
      "execution_count": null,
      "outputs": []
    },
    {
      "cell_type": "code",
      "source": [
        "#explicit access : df.loc[]\n",
        "\n",
        "f = {'name':[\"apple\",\"banana\",\"cherry\",\"pear\"],\n",
        "     'quantity':[10, 20, 50, 30],\n",
        "     'price':[1000,500,750,900]}\n",
        "df = pd.DataFrame(f, index=[5,4,3,2])\n",
        "print(df)\n",
        "\n",
        "print(\"\\nAccessing single index : df.loc[2\")\n",
        "print(df.loc[2])\n",
        "\n",
        "print(\"\\nAccessing single index, single column : df.loc[2,'price']\")\n",
        "print(df.loc[2,\"price\"])\n",
        "\n",
        "print(\"\\nAccessing slice of index, single column : df.loc[:2,'price']\")\n",
        "print(df.loc[:2,\"price\"])\n",
        "\n",
        "print(\"\\nAccessing list of indexes, list of columns : df.loc[[2,3],['price','name']]\")\n",
        "print(df.loc[[2,3],[\"price\",\"name\"]])\n",
        "\n",
        "print(\"\\nAccessing by boolean array (conditional access) : df.loc[df['price']<1000]\")\n",
        "print(df.loc[df[\"price\"]<1000])"
      ],
      "metadata": {
        "id": "nTDu_UKuUb6_"
      },
      "execution_count": null,
      "outputs": []
    },
    {
      "cell_type": "code",
      "source": [
        "#explicit access : df.iloc[]\n",
        "\n",
        "f = {'name':[\"apple\",\"banana\",\"cherry\",\"pear\"],\n",
        "     'quantity':[10, 20, 50, 30],\n",
        "     'price':[1000,500,750,900]}\n",
        "df = pd.DataFrame(f, index=[5,6,7,8])\n",
        "print(df)\n",
        "\n",
        "print(\"\\nAccessing single row : df.iloc[2]\")\n",
        "print(df.iloc[2])\n",
        "\n",
        "print(\"\\nAccessing single element (single row, single column): df.iloc[2,2]\")\n",
        "print(df.iloc[2,2])\n",
        "\n",
        "print(\"\\nAccessing single row, slice of columns : df.iloc[2,:2]\")\n",
        "print(df.iloc[2,:2])\n",
        "\n",
        "print(\"\\nAccessing list of row location, list of column locations : df.iloc[[2,3],[0,2]]\")\n",
        "print(df.iloc[[2,3],[0,2]])\n"
      ],
      "metadata": {
        "id": "tgFU5-tyXB2W"
      },
      "execution_count": null,
      "outputs": []
    },
    {
      "cell_type": "markdown",
      "source": [
        "###Access by conditions"
      ],
      "metadata": {
        "id": "TNmTaWtVCyr4"
      }
    },
    {
      "cell_type": "code",
      "source": [
        "df = pd.DataFrame({\n",
        "    'name': ['apple', 'apple', 'pear', 'pear', 'banana','banana'],\n",
        "    'color': ['red', 'green', 'green', 'yellow', 'yellow','yellow'],\n",
        "    'qty': [4, 4, 5, 15, 15,13]\n",
        "    })\n",
        "\n",
        "print('Testing rows\\n',df['qty']>4)\n",
        "print('\\nAccess using boolean list with df[]\\n',df[[True,False]*3])\n",
        "print('\\nAccess using boolean list with df.loc[]\\n',df.loc[[True,False]*3])\n",
        "\n",
        "\n",
        "print(\"\\nAccessing rows where qty > 4\")\n",
        "print(df[df[\"qty\"]>4])\n",
        "\n",
        "print(\"\\nAccessing rows where qty > 4 OR name in a list\")\n",
        "print(df[(df[\"qty\"]>4.0) |\n",
        "         (df[\"name\"].isin([\"apple\",\"banana\"]))]\n",
        "      )\n",
        "\n",
        "print(\"\\nAccessing rows where qty > 4 AND name in a list\")\n",
        "print(df.loc[(df[\"qty\"]>4.0) &\n",
        "          (df[\"name\"].isin([\"apple\",\"banana\"]))]\n",
        "      )\n"
      ],
      "metadata": {
        "id": "7oJpxYMA_cFM"
      },
      "execution_count": null,
      "outputs": []
    },
    {
      "cell_type": "markdown",
      "source": [
        "##Missing Values"
      ],
      "metadata": {
        "id": "uRbCOukrcN_c"
      }
    },
    {
      "cell_type": "code",
      "source": [
        "df = pd.DataFrame({\n",
        "    'name': ['apple', 'apple', 'pear', 'pear', 'banana','banana'],\n",
        "    'color': ['red', 'green', np.nan, 'yellow', 'yellow',None],\n",
        "    'qty': [4, 4, 5, 15, 15,np.nan]\n",
        "    })\n",
        "df"
      ],
      "metadata": {
        "id": "iu7CfY5UcP6X"
      },
      "execution_count": null,
      "outputs": []
    },
    {
      "cell_type": "code",
      "source": [
        "#check null value\n",
        "print(\"\\nFind null values : df.isna() \")\n",
        "print(df.isna())\n",
        "\n",
        "print(\"\\nFind non-null values : df.notna()\")\n",
        "print(df.notna())\n",
        "\n",
        "print(\"\\nFind null values in a column : df.color.isna()\")\n",
        "print(df.color.isna())\n",
        "\n",
        "print(\"\\nShow the number of null values in each column : df.isna().sum\")\n",
        "print(df.isna().sum())"
      ],
      "metadata": {
        "id": "huwkmXuT3wa1"
      },
      "execution_count": null,
      "outputs": []
    },
    {
      "cell_type": "code",
      "source": [
        "#filter rows with null/notnull value\n",
        "print(\"Show rows where color is NULL\")\n",
        "print(df[df.color.isna()])\n",
        "\n",
        "#print(df[df.color.notna()])\n",
        "#print(df[df.color.isnull()])\n",
        "\n",
        "print(\"\\nShow rows where color is not NULL\")\n",
        "print(df[df.color.notnull()])"
      ],
      "metadata": {
        "id": "WEHT7iUT1UM5"
      },
      "execution_count": null,
      "outputs": []
    },
    {
      "cell_type": "code",
      "source": [
        "#fill missing value with a default value\n",
        "df.fillna(value=0)"
      ],
      "metadata": {
        "id": "_FHb8LHW1lAO"
      },
      "execution_count": null,
      "outputs": []
    },
    {
      "cell_type": "code",
      "source": [
        "#fill missing value with other method\n",
        "print(\"Fill null with the previous value\")\n",
        "print(df.fillna(method='bfill')) \n",
        "\n",
        "print(\"\\nFill null with the next value\")\n",
        "print(df.fillna(method='ffill')) "
      ],
      "metadata": {
        "id": "AO0aUxje4pBu"
      },
      "execution_count": null,
      "outputs": []
    },
    {
      "cell_type": "code",
      "source": [
        "#drop rows with missing value\n",
        "print(\"Drop row when any column is null\")\n",
        "print(df.dropna())\n",
        "\n",
        "print(\"\\nDrop row when all columns are null\")\n",
        "print(df.dropna(how='all'))\n",
        "\n",
        "print(\"\\nDrop row with minimal number of non null columns\")\n",
        "print(df.dropna(thresh=2))\n",
        "\n",
        "print(\"\\nDrop row with subset columns\")\n",
        "print(df.dropna(subset=['name','qty']))\n"
      ],
      "metadata": {
        "id": "V34uXlGs5Qho"
      },
      "execution_count": null,
      "outputs": []
    },
    {
      "cell_type": "markdown",
      "source": [
        "##Updating DataFrame"
      ],
      "metadata": {
        "id": "I4LrwTh_IGK3"
      }
    },
    {
      "cell_type": "markdown",
      "source": [
        "###Adding new columns"
      ],
      "metadata": {
        "id": "lZGBGprfI70c"
      }
    },
    {
      "cell_type": "code",
      "source": [
        "#adding new column \n",
        "df = pd.DataFrame({\n",
        "    'name': ['apple', 'apple', 'pear', 'pear', 'banana','banana'],\n",
        "    'color': ['red', 'green', 'green', 'yellow', 'yellow','yellow'],\n",
        "    'qty': [4, 4, 5, 15, 15,13]\n",
        "    })\n",
        "\n",
        "rack_id = [10,11,10,12,10,9]\n",
        "\n",
        "df['rack_id'] = rack_id #with assignment\n",
        "df.insert(2, 'rack_id', rack_id, allow_duplicates=True) #with insert\n",
        "df"
      ],
      "metadata": {
        "id": "4sxm9kz0ILkv"
      },
      "execution_count": null,
      "outputs": []
    },
    {
      "cell_type": "markdown",
      "source": [
        "###Delete columns/rows"
      ],
      "metadata": {
        "id": "94viMm8pJAfz"
      }
    },
    {
      "cell_type": "code",
      "source": [
        "#drop column\n",
        "print('\\nDrop columns by setting axis=1')\n",
        "print(df.drop(['rack_id', 'qty'], axis=1))\n",
        "\n",
        "print('\\nDrop columns by setting columns parameter')\n",
        "print(df.drop(columns=['rack_id', 'qty'])) \n",
        "\n",
        "#drop rows\n",
        "print('\\nDrop rows by index')\n",
        "print(df.drop([0,3]))\n",
        "\n",
        "print('\\nDrop rows by conditions')\n",
        "print(df.drop(df[df['qty'] == 15].index))\n",
        "\n",
        "print('\\nNote that the dataframe is unchanged')\n",
        "print(df)"
      ],
      "metadata": {
        "id": "i2ZPazDvGxJp"
      },
      "execution_count": null,
      "outputs": []
    },
    {
      "cell_type": "markdown",
      "source": [
        "###Rename columns"
      ],
      "metadata": {
        "id": "22uGGIfqJVcC"
      }
    },
    {
      "cell_type": "code",
      "source": [
        "df.rename(columns={\"rack_id\": \"rack\", \"qty\": \"quantity\"})"
      ],
      "metadata": {
        "id": "gqm5u644JXQ_"
      },
      "execution_count": null,
      "outputs": []
    },
    {
      "cell_type": "code",
      "source": [
        "colnames=list(df.columns)\n",
        "colnames[4]='rack_no'\n",
        "df.columns=colnames\n",
        "df"
      ],
      "metadata": {
        "id": "eeOY96gAKGQD"
      },
      "execution_count": null,
      "outputs": []
    },
    {
      "cell_type": "markdown",
      "source": [
        "##Working with Strings"
      ],
      "metadata": {
        "id": "DhKaRS-aIgN4"
      }
    },
    {
      "cell_type": "code",
      "source": [
        "df = pd.DataFrame({\n",
        "    'name': ['Apple', 'Apple ', 'pear', 'pear', 'Banana','banana'],\n",
        "    'color': ['red', 'green', 'green', 'yellow', 'yellow','yellow'],\n",
        "    'qty': [4, 4, 5, 15, 15,13]\n",
        "    })\n",
        "\n",
        "df['name'].str.lower()\n",
        "df['name'].str.lower().str.strip()"
      ],
      "metadata": {
        "id": "X8sveAyNIiib"
      },
      "execution_count": null,
      "outputs": []
    },
    {
      "cell_type": "markdown",
      "source": [
        "##Duplicate & Unique values"
      ],
      "metadata": {
        "id": "zag7xGAPp-6J"
      }
    },
    {
      "cell_type": "code",
      "source": [
        "#check duplication\n",
        "df = pd.DataFrame({\n",
        "    'name': ['apple', 'apple', 'pear', 'pear', 'banana','banana'],\n",
        "    'color': ['red', 'green', 'green', 'yellow', 'yellow','yellow'],\n",
        "    'qty': [4, 4, 5, 15, 15,13]\n",
        "    })\n",
        "print(\"Duplicate by considering all columns (exact row duplicate)\")\n",
        "print(df.duplicated())\n",
        "print(\"\\nDuplicate by considering only subsets of columns\")\n",
        "print(df.duplicated(subset=['name','color']))"
      ],
      "metadata": {
        "id": "DMFKC7hFWOdA"
      },
      "execution_count": null,
      "outputs": []
    },
    {
      "cell_type": "code",
      "source": [
        "#Show the duplicated rows only\n",
        "print(\"Duplicate by considering all columns (exact row duplicate)\")\n",
        "print(df.loc[df.duplicated()])\n",
        "\n",
        "print(\"\\nDuplicate by considering only subsets of columns, show all\")\n",
        "print(df.loc[df.duplicated(subset=['name','color'], keep=False)])"
      ],
      "metadata": {
        "id": "LHscwJ2jWCnQ"
      },
      "execution_count": null,
      "outputs": []
    },
    {
      "cell_type": "code",
      "source": [
        "#drop duplicates\n",
        "print(\"Drop exact row duplicates\")\n",
        "print(df.drop_duplicates())\n",
        "\n",
        "print(\"\\nDrop duplicate by considering only subsets of columns, keeping the last one\")\n",
        "print(df.drop_duplicates(subset=['name','color'], keep='last'))"
      ],
      "metadata": {
        "id": "a6-5dJUJmWLx"
      },
      "execution_count": null,
      "outputs": []
    },
    {
      "cell_type": "code",
      "source": [
        "#show unique value of a column\n",
        "print(\"Unique value of column 'color'\")\n",
        "print(df['color'].unique())\n",
        "\n",
        "print(\"\\nNumber of unique value of column 'color'\")\n",
        "print(df['color'].nunique())\n",
        "\n",
        "#show unique value of multiple columns\n",
        "print(\"\\nUnique value of combined columns 'name' and 'color'\")\n",
        "print(df[['name','color']].drop_duplicates())"
      ],
      "metadata": {
        "id": "n9VSUWW3lz5k"
      },
      "execution_count": null,
      "outputs": []
    },
    {
      "cell_type": "markdown",
      "source": [
        "##Combining DataFrames"
      ],
      "metadata": {
        "id": "4rVmcGr0IzEG"
      }
    },
    {
      "cell_type": "code",
      "source": [
        "df = pd.DataFrame({'name':[\"apple\", \"banana\", \"cherry\", \"lemon\", \"pear\", \"strawberry\"], \n",
        "                   'qty':[10, 20, 30, 40, 50, 10]})\n",
        "colors = pd.DataFrame({'name':[\"apple\", \"banana\", \"cherry\", \"pear\", \"strawberry\", \"apple\"], \n",
        "                       'color':['red', 'yellow', 'red', 'green', 'red', 'green']})\n",
        "\n",
        "pd.merge(df, colors, on='name')"
      ],
      "metadata": {
        "id": "7jk6WzUEI1gx"
      },
      "execution_count": null,
      "outputs": []
    },
    {
      "cell_type": "code",
      "source": [
        "pd.merge(df, colors, on='name', how='outer')"
      ],
      "metadata": {
        "id": "VFU3TfUqTvXs"
      },
      "execution_count": null,
      "outputs": []
    },
    {
      "cell_type": "markdown",
      "source": [
        "##Grouping and Aggregation"
      ],
      "metadata": {
        "id": "YUU0hnGUvZbI"
      }
    },
    {
      "cell_type": "markdown",
      "source": [
        "###Aggregate"
      ],
      "metadata": {
        "id": "M-o6NWCH1_NX"
      }
    },
    {
      "cell_type": "code",
      "source": [
        "df = pd.DataFrame({\n",
        "    'name': ['apple', 'apple', 'apple', 'pear', 'pear', 'banana','banana'],\n",
        "    'color': ['red', 'green', 'green', 'green', 'yellow', 'yellow','yellow'],\n",
        "    'qty': [4, 4, 5, 6, 15, 15,13.0],\n",
        "    'price': [10, 10, 15, 20, 25, 15, 15.0]\n",
        "    })\n",
        "\n",
        "#single function\n",
        "print(df.agg(np.sum))\n",
        "print(df.agg(\"sum\"))"
      ],
      "metadata": {
        "id": "HWBeDnS4vcIM"
      },
      "execution_count": null,
      "outputs": []
    },
    {
      "cell_type": "code",
      "source": [
        "#multiple functions\n",
        "print(df.agg([\"sum\",\"mean\"]))\n",
        "print(df.agg([\"sum\"]))"
      ],
      "metadata": {
        "id": "aTLYvcNLwK36"
      },
      "execution_count": null,
      "outputs": []
    },
    {
      "cell_type": "markdown",
      "source": [
        "###Grouping DataFrame"
      ],
      "metadata": {
        "id": "37ZN44Dj2BbA"
      }
    },
    {
      "cell_type": "code",
      "source": [
        "#group by single column\n",
        "print(df.groupby(\"color\"))\n",
        "\n",
        "#group by list of column(s)\n",
        "print(df.groupby([\"color\"]))\n",
        "print(df.groupby([\"name\",\"color\"]))\n",
        "\n",
        "#iterate on groupby object\n",
        "grouped=df.groupby([\"color\"])\n",
        "for name, group in grouped:\n",
        "   print(name)\n",
        "   print(group)"
      ],
      "metadata": {
        "id": "Zc1rvhmSyG2Z"
      },
      "execution_count": null,
      "outputs": []
    },
    {
      "cell_type": "markdown",
      "source": [
        "###Aggregate on GroupBy"
      ],
      "metadata": {
        "id": "BwL09RlT2FaN"
      }
    },
    {
      "cell_type": "code",
      "source": [
        "#apply function on groupby object\n",
        "grouped = df.groupby([\"name\"])\n",
        "grouped.mean()"
      ],
      "metadata": {
        "id": "Dw2uqeLe0vyS"
      },
      "execution_count": null,
      "outputs": []
    },
    {
      "cell_type": "code",
      "source": [
        "#to get a single indexed result\n",
        "grouped = df.groupby([\"name\"], as_index = False) #don't set the grouped columns as index\n",
        "grouped.agg(\"mean\")"
      ],
      "metadata": {
        "id": "yjFrUMo02pMg"
      },
      "execution_count": null,
      "outputs": []
    },
    {
      "cell_type": "code",
      "source": [
        "#another way to get a single indexed result\n",
        "grouped = df.groupby([\"name\"])\n",
        "grouped.agg(\"mean\").reset_index()"
      ],
      "metadata": {
        "id": "L9JpjWnU3CgI"
      },
      "execution_count": null,
      "outputs": []
    },
    {
      "cell_type": "code",
      "source": [
        "#apply multiple aggregation function\n",
        "grouped = df.groupby([\"name\"])\n",
        "grouped.agg([\"mean\",\"sum\",\"max\",\"min\"])#.reset_index()"
      ],
      "metadata": {
        "id": "bHrzA_X64KIE"
      },
      "execution_count": null,
      "outputs": []
    },
    {
      "cell_type": "code",
      "source": [
        "#named result\n",
        "grouped = df.groupby([\"name\"])\n",
        "grouped.agg(\n",
        "    min_qty=('qty','min'),\n",
        "    max_price=('price','max'),\n",
        "    mean_price=('price','mean')\n",
        "   )#.reset_index()"
      ],
      "metadata": {
        "id": "0401TVAk47P2"
      },
      "execution_count": null,
      "outputs": []
    },
    {
      "cell_type": "markdown",
      "source": [
        ""
      ],
      "metadata": {
        "id": "ite-PVRWrf1D"
      }
    },
    {
      "cell_type": "code",
      "source": [
        ""
      ],
      "metadata": {
        "id": "b4jBHN5ErgNi"
      },
      "execution_count": null,
      "outputs": []
    },
    {
      "cell_type": "markdown",
      "source": [
        "##Visualizing Pandas"
      ],
      "metadata": {
        "id": "q0Ax9KgqIokO"
      }
    },
    {
      "cell_type": "markdown",
      "source": [
        ""
      ],
      "metadata": {
        "id": "gd9kyfDiIsQQ"
      }
    },
    {
      "cell_type": "code",
      "source": [
        "df = pd.DataFrame({\n",
        "    'name': ['apple','apple','apple','pear','pear','banana','banana','cherry','lemon','lemon'],\n",
        "    'color': ['red','green','green','green','yellow','yellow','yellow','red','yellow','orange'],\n",
        "    'qty': [4, 4, 5, 6, 15, 15, 13.0, 10, 6, 5],\n",
        "    'price': [10, 10, 15, 20, 25, 15, 15, 18, 10, 12]\n",
        "    })\n",
        "\n",
        "df"
      ],
      "metadata": {
        "id": "vZnq2SSxPzmZ"
      },
      "execution_count": null,
      "outputs": []
    },
    {
      "cell_type": "code",
      "source": [
        "grouped = df.groupby([\"color\"])\n",
        "agg1 = grouped.agg(\n",
        "    avg_price=('price','mean'),\n",
        "    max_qty=('qty','max'),\n",
        "   )#.reset_index()\n",
        "agg1.plot(kind='bar')"
      ],
      "metadata": {
        "id": "hjl57al0uqyI"
      },
      "execution_count": null,
      "outputs": []
    },
    {
      "cell_type": "code",
      "source": [
        "df.plot.bar()"
      ],
      "metadata": {
        "id": "ECtjCMG19DS4"
      },
      "execution_count": null,
      "outputs": []
    },
    {
      "cell_type": "code",
      "source": [
        "#df.plot.scatter(x=\"qty\", y=\"price\")\n",
        "df.plot(x=\"qty\", y=\"price\", kind=\"scatter\")"
      ],
      "metadata": {
        "id": "7tV8JWRgJONg"
      },
      "execution_count": null,
      "outputs": []
    },
    {
      "cell_type": "code",
      "source": [
        "df['color'].value_counts()"
      ],
      "metadata": {
        "id": "fcn_rPeRoIap"
      },
      "execution_count": null,
      "outputs": []
    },
    {
      "cell_type": "code",
      "source": [
        "df['color'].value_counts().plot(kind='bar')"
      ],
      "metadata": {
        "id": "JH1EAD4zItRM"
      },
      "execution_count": null,
      "outputs": []
    },
    {
      "cell_type": "code",
      "source": [
        "df['color'].value_counts().plot.pie()"
      ],
      "metadata": {
        "id": "fiMvRFbLnNAA"
      },
      "execution_count": null,
      "outputs": []
    },
    {
      "cell_type": "code",
      "source": [
        ""
      ],
      "metadata": {
        "id": "Tf8nJitLu2sz"
      },
      "execution_count": null,
      "outputs": []
    },
    {
      "cell_type": "markdown",
      "source": [
        "###Seaborn plot"
      ],
      "metadata": {
        "id": "Lq3n8BdW6_s1"
      }
    },
    {
      "cell_type": "code",
      "source": [
        "sns.countplot(df['color'], palette=\"plasma\")"
      ],
      "metadata": {
        "id": "yhMemVWbae1J"
      },
      "execution_count": null,
      "outputs": []
    },
    {
      "cell_type": "code",
      "source": [
        "sns.scatterplot(x=\"qty\", y=\"price\", data=df)"
      ],
      "metadata": {
        "id": "q3vEV14JEfKT"
      },
      "execution_count": null,
      "outputs": []
    },
    {
      "cell_type": "markdown",
      "source": [
        "##I/O Operations\n",
        "\n",
        "###Save to json"
      ],
      "metadata": {
        "id": "b3IjQdrr29hP"
      }
    },
    {
      "cell_type": "code",
      "source": [
        "df = pd.DataFrame({\n",
        "    'name': ['apple','apple','apple','pear','pear','banana','banana','cherry','lemon','lemon'],\n",
        "    'color': ['red','green','green','green','yellow','yellow','yellow','red','yellow','orange'],\n",
        "    'qty': [4, 4, 5, 6, 15, 15, 13.0, 10, 6, 5],\n",
        "    'price': [10, 10, 15, 20, 25, 15, 15, 18, 10, 12]\n",
        "    })\n",
        "\n",
        "df"
      ],
      "metadata": {
        "id": "P8ZvkwwK3B55"
      },
      "execution_count": null,
      "outputs": []
    },
    {
      "cell_type": "code",
      "source": [
        "df.to_json()#orient='columns')"
      ],
      "metadata": {
        "id": "Hx35zcRh3E-Q"
      },
      "execution_count": null,
      "outputs": []
    },
    {
      "cell_type": "code",
      "source": [
        "df.to_json(orient='split')"
      ],
      "metadata": {
        "id": "v4CeI8cW3Lkc"
      },
      "execution_count": null,
      "outputs": []
    },
    {
      "cell_type": "code",
      "source": [
        "df.to_json(orient='records')"
      ],
      "metadata": {
        "id": "PLudtAwc3eSi"
      },
      "execution_count": null,
      "outputs": []
    },
    {
      "cell_type": "code",
      "source": [
        "df.to_json(orient='values')"
      ],
      "metadata": {
        "id": "dZSVLNqm3gUl"
      },
      "execution_count": null,
      "outputs": []
    }
  ]
}