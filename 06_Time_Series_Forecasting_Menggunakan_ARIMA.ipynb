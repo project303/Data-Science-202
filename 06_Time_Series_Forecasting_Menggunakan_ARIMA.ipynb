{
  "nbformat": 4,
  "nbformat_minor": 0,
  "metadata": {
    "colab": {
      "name": "06 - Time Series Forecasting Menggunakan ARIMA.ipynb",
      "provenance": []
    },
    "kernelspec": {
      "name": "python3",
      "display_name": "Python 3"
    },
    "language_info": {
      "name": "python"
    }
  },
  "cells": [
    {
      "cell_type": "markdown",
      "source": [
        "## Apa itu ARIMA?"
      ],
      "metadata": {
        "id": "way6Ke692SFv"
      }
    },
    {
      "cell_type": "markdown",
      "source": [
        "ARIMA, singkatan dari 'Auto Regressive Integrated Moving Average' sebenarnya adalah kelas model yang 'menjelaskan' deret waktu tertentu berdasarkan nilai sebelumnya, yaitu lag-nya sendiri dan kesalahan perkiraan lag, sehingga persamaan dapat digunakan untuk memprediksi nilai masa depan.\n",
        "\n",
        "\n"
      ],
      "metadata": {
        "id": "hdTKsGST2pcW"
      }
    },
    {
      "cell_type": "markdown",
      "source": [
        "## Persiapan Dataset"
      ],
      "metadata": {
        "id": "F4JuUXNKPUYG"
      }
    },
    {
      "cell_type": "code",
      "source": [
        "! wget https://www.dropbox.com/s/9bfx2ojb6l4uqen/www-usage.csv"
      ],
      "metadata": {
        "id": "vvs1o3YLwK6H"
      },
      "execution_count": null,
      "outputs": []
    },
    {
      "cell_type": "code",
      "source": [
        "! head www-usage.csv"
      ],
      "metadata": {
        "id": "JtkKU1H-4Q0z"
      },
      "execution_count": null,
      "outputs": []
    },
    {
      "cell_type": "code",
      "execution_count": null,
      "metadata": {
        "id": "9rghrJ6K2A6P"
      },
      "outputs": [],
      "source": [
        "from datetime import datetime\n",
        "import numpy as np\n",
        "import pandas as pd\n",
        "import matplotlib.pyplot  as  plt\n",
        "from sklearn.metrics import mean_squared_error\n",
        "from math import sqrt\n",
        "from statsmodels.graphics.tsaplots import plot_acf, plot_pacf"
      ]
    },
    {
      "cell_type": "code",
      "source": [
        "# df = pd.read_csv(\"www-usage.csv\", header=0, index_col=0)\n",
        "df = pd.read_csv(\"www-usage.csv\", header=0)"
      ],
      "metadata": {
        "id": "ttP8ZJnx4GIl"
      },
      "execution_count": null,
      "outputs": []
    },
    {
      "cell_type": "code",
      "source": [
        "df.head(3)"
      ],
      "metadata": {
        "id": "vitOXfaN4sV7"
      },
      "execution_count": null,
      "outputs": []
    },
    {
      "cell_type": "code",
      "source": [
        "df.describe()"
      ],
      "metadata": {
        "id": "ma3yhtF5STtQ"
      },
      "execution_count": null,
      "outputs": []
    },
    {
      "cell_type": "code",
      "source": [
        "df.plot(y=[\"usage\"], figsize = (20,6))"
      ],
      "metadata": {
        "id": "1YCgGOo-5kCa"
      },
      "execution_count": null,
      "outputs": []
    },
    {
      "cell_type": "code",
      "source": [
        "df[\"rolling_avg\"] = df[\"usage\"].rolling(window=12).mean()\n",
        "df.plot(y=[\"usage\", \"rolling_avg\"], figsize = (20,6))"
      ],
      "metadata": {
        "id": "FQ1VVFMFQAha"
      },
      "execution_count": null,
      "outputs": []
    },
    {
      "cell_type": "markdown",
      "source": [
        "## Preprocessing"
      ],
      "metadata": {
        "id": "JqGjaXy0SvgF"
      }
    },
    {
      "cell_type": "code",
      "source": [
        "df_clean = df[[\"time\", \"usage\", \"rolling_avg\"]].copy()"
      ],
      "metadata": {
        "id": "CuOCOdejS_Gu"
      },
      "execution_count": null,
      "outputs": []
    },
    {
      "cell_type": "code",
      "source": [
        "df_clean.head(5)"
      ],
      "metadata": {
        "id": "UvSTCRwETSP_"
      },
      "execution_count": null,
      "outputs": []
    },
    {
      "cell_type": "markdown",
      "source": [
        "## Menentukan Order Differencing,"
      ],
      "metadata": {
        "id": "ypcNiyssjZlE"
      }
    },
    {
      "cell_type": "markdown",
      "source": [
        "Istilah 'Auto Regressive' dalam ARIMA adalah model regresi linier yang menggunakan lagnya sendiri (nilai sebelumnya) sebagai prediktor atau independent variable. Model regresi linier bekerja dengan sangat baik ketika prediktor tidak berkorelasi dan independen satu sama lain. Data deret waktu harus dibuat stasioner untuk menghilangkan korelasi dan kolinearitas yang jelas dengan data masa lalu.\n"
      ],
      "metadata": {
        "id": "ZOCBUuM5YJU_"
      }
    },
    {
      "cell_type": "markdown",
      "source": [
        "Plot grafik autokorelasi dataset menggunakan plot_acf"
      ],
      "metadata": {
        "id": "vJe2x_hbjfeH"
      }
    },
    {
      "cell_type": "code",
      "source": [
        "f = plt.figure(figsize=(20, 6))\n",
        "ax1 = f.add_subplot(121)\n",
        "ax1.set_title('Zero Order Differencing')\n",
        "ax1.plot(df_clean['usage'])\n",
        "\n",
        "ax2 = f.add_subplot(122)\n",
        "plot_acf(df_clean['usage'], ax = ax2)\n",
        "\n",
        "plt.show()"
      ],
      "metadata": {
        "id": "rX6zA_Pp4u9z"
      },
      "execution_count": null,
      "outputs": []
    },
    {
      "cell_type": "markdown",
      "source": [
        "Dari grafik autokorelasi terlihat bahwa setiap lag masih memiliki nilai yang significant. Artinya dataset masih belum stasioner.\n"
      ],
      "metadata": {
        "id": "D82Vs4P06XGl"
      }
    },
    {
      "cell_type": "markdown",
      "source": [
        "### Bagaimana membuat dataset menjadi stasioner?\n",
        "\n",
        "Pendekatan yang paling umum digunakan adalah dengan difference, yaitu mengurangi nilai sebelumnya dengan nilai saat ini. Nilai **d** adalah jumlah diferensial minimum yang diperlukan untuk membuat deret tersebut stasioner. "
      ],
      "metadata": {
        "id": "Q80lSH5Xd974"
      }
    },
    {
      "cell_type": "code",
      "source": [
        "f = plt.figure(figsize=(20, 12))\n",
        "ax1 = f.add_subplot(221)\n",
        "ax1.set_title('1st Order Differencing')\n",
        "ax1.plot(df_clean['usage'].diff())\n",
        "\n",
        "ax2 = f.add_subplot(222)\n",
        "plot_acf(df_clean['usage'].diff().dropna(), ax = ax2)\n",
        "\n",
        "ax3 = f.add_subplot(223)\n",
        "ax3.set_title('2nd Order Differencing')\n",
        "ax3.plot(df_clean['usage'].diff().diff())\n",
        "\n",
        "ax4 = f.add_subplot(224)\n",
        "plot_acf(df_clean['usage'].diff().diff().dropna(), ax = ax4)\n",
        "\n",
        "plt.show()"
      ],
      "metadata": {
        "id": "ZFG_AnJB6IBG"
      },
      "execution_count": null,
      "outputs": []
    },
    {
      "cell_type": "markdown",
      "source": [
        "Pada 2nd Order Differencing, lag 1 sudah tidak memiliki autokorelasi yang significant. Dapat kita simpulkan nilai d adalah 2"
      ],
      "metadata": {
        "id": "DW--QPvbnPaj"
      }
    },
    {
      "cell_type": "markdown",
      "source": [
        "### Augmented Dickey-Fuller"
      ],
      "metadata": {
        "id": "Vkr9YO1wVzFx"
      }
    },
    {
      "cell_type": "markdown",
      "source": [
        "Cara lain untuk menentukan nilai order differencing adalah menggunakan algoritma Augmented Dickey-Fuller. Algoritma ini adalah perhitungan matematis untuk menentukan p-value. Untuk menentukan order differencing, adalah dengan membandingkan dengan nilai ambang batas atau tingkat signifikansi 0,05. Jika p-value lebih kecil dari level ini, maka data tersebut stasioner"
      ],
      "metadata": {
        "id": "0pfoljXHV7tr"
      }
    },
    {
      "cell_type": "code",
      "source": [
        "from statsmodels.tsa.stattools import adfuller\n",
        "\n",
        "result = adfuller(df_clean['usage'].dropna())\n",
        "print('p-value order 0: ', result[1])\n",
        "\n",
        "result = adfuller(df_clean['usage'].diff().dropna())\n",
        "print('p-value order 1: ', result[1])\n",
        "\n",
        "result = adfuller(df_clean['usage'].diff().diff().dropna())\n",
        "print('p-value order 2: ', result[1])"
      ],
      "metadata": {
        "id": "XW_bnFa9Vyf4"
      },
      "execution_count": null,
      "outputs": []
    },
    {
      "cell_type": "markdown",
      "source": [
        "Seperti yang kita lihat di atas, setelah **order differencing ke-2, nilai p turun melampaui ambang batas yang dapat diterima**. Dengan demikian, kita dapat menganggap order differencing (“d”) sebagai 2. Ini sesuai dengan grafik autokorelasi sebelumnya."
      ],
      "metadata": {
        "id": "Df1T1W3bgIKu"
      }
    },
    {
      "cell_type": "code",
      "source": [
        ""
      ],
      "metadata": {
        "id": "uCVybEPiVydL"
      },
      "execution_count": null,
      "outputs": []
    },
    {
      "cell_type": "markdown",
      "source": [
        "## Menentukan order ‘Auto Regressive’ (AR)"
      ],
      "metadata": {
        "id": "4R2UwGPbgroV"
      }
    },
    {
      "cell_type": "markdown",
      "source": [
        "Model Auto Regressive (hanya AR) murni adalah model di mana Yt hanya bergantung pada lag-nya sendiri. Artinya, Yt adalah fungsi dari 'lag Yt'.\n",
        "\n",
        "'p' adalah order dari 'Auto Regressive' (AR), yang mengacu pada jumlah lag dari Y yang akan digunakan sebagai prediktor. Nilai p dapat ditentukan dengan menggunakan grafik Partial Autocorrelation (PACF).\n",
        "\n",
        "Partial Autocorrelation menggambarkan korelasi antara deret dan lag-nya, setelah membuang kontribusi dari intermediate lag. Jadi, PACF semacam menyampaikan korelasi murni antara lag dan seri.\n",
        "\n",
        "Setiap autokorelasi dalam deret stasioner dapat diperbaiki dengan menambahkan menambahkan nilai p yang cukup. Jadi, kita awalnya mengambil urutan istilah AR sama dengan banyak lag yang melintasi batas signifikansi di plot PACF."
      ],
      "metadata": {
        "id": "dNoIGUuahaVt"
      }
    },
    {
      "cell_type": "code",
      "source": [
        "f = plt.figure(figsize=(20, 12))\n",
        "ax1 = f.add_subplot(221)\n",
        "ax1.set_title('1st Order Differencing')\n",
        "ax1.plot(df_clean['usage'].diff())\n",
        "\n",
        "ax2 = f.add_subplot(222)\n",
        "plot_pacf(df_clean['usage'].diff().dropna(), ax = ax2)\n",
        "\n",
        "ax3 = f.add_subplot(223)\n",
        "ax3.set_title('2nd Order Differencing')\n",
        "ax3.plot(df_clean['usage'].diff().diff())\n",
        "\n",
        "ax4 = f.add_subplot(224)\n",
        "plot_pacf(df_clean['usage'].diff().diff().dropna(), ax = ax4)\n",
        "\n",
        "plt.show()"
      ],
      "metadata": {
        "id": "JuvXXMqkVyae"
      },
      "execution_count": null,
      "outputs": []
    },
    {
      "cell_type": "markdown",
      "source": [
        "Jika menggunakan d = 2, terlihat pada grafik PACF, lag 1 memiliki nilai tertinggi.\n"
      ],
      "metadata": {
        "id": "GbafMSy8kVgl"
      }
    },
    {
      "cell_type": "code",
      "source": [
        ""
      ],
      "metadata": {
        "id": "3BG8quAxVyXk"
      },
      "execution_count": null,
      "outputs": []
    },
    {
      "cell_type": "markdown",
      "source": [
        "## Menentukan order ‘Moving Average’ (MA)"
      ],
      "metadata": {
        "id": "W6r5xa0VoB9O"
      }
    },
    {
      "cell_type": "markdown",
      "source": [
        "“q” dapat diperkirakan dengan cara yang sama dengan melihat plot ACF dan bukan plot PACF. Melihat jumlah lag yang melewati ambang batas, kita dapat menentukan seberapa banyak masa lalu yang cukup signifikan untuk dipertimbangkan di masa depan."
      ],
      "metadata": {
        "id": "w3DzKZd2oVE4"
      }
    },
    {
      "cell_type": "code",
      "source": [
        "f = plt.figure(figsize=(20, 6))\n",
        "ax1 = f.add_subplot(121)\n",
        "ax1.set_title('2nd Order Differencing')\n",
        "ax1.plot(df_clean['usage'].diff().diff())\n",
        "\n",
        "ax2 = f.add_subplot(122)\n",
        "plot_pacf(df_clean['usage'].diff().diff().dropna(), ax = ax2)\n",
        "\n",
        "plt.show()"
      ],
      "metadata": {
        "id": "7RulcXodVyU7"
      },
      "execution_count": null,
      "outputs": []
    },
    {
      "cell_type": "code",
      "source": [
        ""
      ],
      "metadata": {
        "id": "Peqr3MdvVySF"
      },
      "execution_count": null,
      "outputs": []
    },
    {
      "cell_type": "markdown",
      "source": [
        "Dari analisa diatas kita akan membuat model ARIMA(p=1, d=2,q= 1)."
      ],
      "metadata": {
        "id": "GJme8DEbouwu"
      }
    },
    {
      "cell_type": "code",
      "source": [
        ""
      ],
      "metadata": {
        "id": "2-sNe0vLVyO7"
      },
      "execution_count": null,
      "outputs": []
    },
    {
      "cell_type": "markdown",
      "source": [
        "## Membuat Model ARIMA"
      ],
      "metadata": {
        "id": "k7mGaTDMo_ey"
      }
    },
    {
      "cell_type": "code",
      "source": [
        "from statsmodels.tsa.arima_model import ARIMA\n",
        "\n",
        "model = ARIMA(df_clean['usage'], order=(1,2,1))\n",
        "model_arima = model.fit()"
      ],
      "metadata": {
        "id": "PK2m18gmpCbd"
      },
      "execution_count": null,
      "outputs": []
    },
    {
      "cell_type": "code",
      "source": [
        "model_arima.plot_predict(dynamic = False)\n",
        "plt.show()"
      ],
      "metadata": {
        "id": "_V92dCccpCXw"
      },
      "execution_count": null,
      "outputs": []
    },
    {
      "cell_type": "code",
      "source": [
        ""
      ],
      "metadata": {
        "id": "Lw7Kn8ykwDMm"
      },
      "execution_count": null,
      "outputs": []
    },
    {
      "cell_type": "code",
      "source": [
        "print(model_arima.summary())"
      ],
      "metadata": {
        "id": "GahKPkZRwDJX"
      },
      "execution_count": null,
      "outputs": []
    },
    {
      "cell_type": "markdown",
      "source": [
        "Pada summary diatas terlihat:\n",
        "\n",
        "\n",
        "*   nilai p untuk ar cukup besar, yaitu 0.147\n",
        "*   nilai p untuk ma adalah 0\n",
        "\n",
        "Nilai ideal untuk kedua nilai tersebut adalah < 0.05\n",
        "\n"
      ],
      "metadata": {
        "id": "PjORPanI0_Dn"
      }
    },
    {
      "cell_type": "markdown",
      "source": [
        "### Perbaikan Model ARIMA (1,1,1)"
      ],
      "metadata": {
        "id": "R1yejvUd1nf0"
      }
    },
    {
      "cell_type": "code",
      "source": [
        "model = ARIMA(df_clean['usage'], order=(1,1,1))\n",
        "model_arima = model.fit()"
      ],
      "metadata": {
        "id": "brhv_fumwDGl"
      },
      "execution_count": null,
      "outputs": []
    },
    {
      "cell_type": "code",
      "source": [
        "print(model_arima.summary())"
      ],
      "metadata": {
        "id": "AGkioKuJwDDQ"
      },
      "execution_count": null,
      "outputs": []
    },
    {
      "cell_type": "markdown",
      "source": [
        "Terlihat hasil diatas, nilai p untuk ar dan ma adalah 0 atau < 0.05\n",
        "\n",
        "AIC juga menurun dari 525.586 ke 515.579\n",
        "\n",
        "Akaike Information Critera atau AIC merupakan salah satu parameter yang baik untuk menguji sebuah model secara matematis. Skor Kriteria Informasi mengukur jumlah informasi yang hilang melalui pelatihan dan generalisasi model ARIMA. Nilai AIC harus serendah mungkin.\n",
        "\n",
        "ini berarti ARIMA (1,1,1) lebih baik dari model sebelumnya"
      ],
      "metadata": {
        "id": "EcntzpHN16VA"
      }
    },
    {
      "cell_type": "code",
      "source": [
        "model_arima.plot_predict(dynamic = False)\n",
        "plt.show()"
      ],
      "metadata": {
        "id": "RgaI7qE52XJU"
      },
      "execution_count": null,
      "outputs": []
    },
    {
      "cell_type": "code",
      "source": [
        "residuals = pd.DataFrame(model_arima.resid)\n",
        "\n",
        "fig, ax = plt.subplots(1,2, figsize=(20,6))\n",
        "residuals.plot(title=\"Residuals\", ax=ax[0])\n",
        "residuals.plot(kind='kde', title='Density', ax=ax[1])\n",
        "plt.show()"
      ],
      "metadata": {
        "id": "jhZouQmU2XFK"
      },
      "execution_count": null,
      "outputs": []
    },
    {
      "cell_type": "code",
      "source": [
        ""
      ],
      "metadata": {
        "id": "5hH4KnlIwC__"
      },
      "execution_count": null,
      "outputs": []
    }
  ]
}