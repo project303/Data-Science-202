{
  "nbformat": 4,
  "nbformat_minor": 0,
  "metadata": {
    "colab": {
      "name": "03 - Mengenal Scikit Learn",
      "provenance": [],
      "collapsed_sections": []
    },
    "kernelspec": {
      "name": "python3",
      "display_name": "Python 3"
    },
    "language_info": {
      "name": "python"
    }
  },
  "cells": [
    {
      "cell_type": "markdown",
      "source": [
        "Kode berikut ini diambil dari [dokumentasi scikit-learn](https://scikit-learn.org/stable/auto_examples/linear_model/plot_ols.html#sphx-glr-auto-examples-linear-model-plot-ols-py) \n",
        "\n",
        "\n",
        "\n",
        "\n"
      ],
      "metadata": {
        "id": "ip5Rbl8jNeQI"
      }
    },
    {
      "cell_type": "markdown",
      "source": [
        "##1.Memilih model\n",
        "\n",
        "Import package dan kelas yang dibutuhkan\n",
        "\n",
        "Kelas regresi linier ada dalam package `linear_model` di package `sklearn`, sedangkan dataset yang akan kita gunakan berada dalam package `dataset`.\n",
        "\n",
        "Selain itu kita juga akan memerlukan kelas-kelas `mean_squared_error` dan `r2_score` untuk keperluan evaluasi. "
      ],
      "metadata": {
        "id": "QxF455aI2SMT"
      }
    },
    {
      "cell_type": "code",
      "source": [
        "import pandas as pd\n",
        "import matplotlib.pyplot as plt  #--> package visualisasi\n",
        "import numpy as np               #--> package pemrosesan numerik\n",
        "from sklearn import datasets, linear_model #--> kelas2 untuk dataset dan pemodelan (kelas model regresi linier) \n",
        "from sklearn.metrics import mean_squared_error, r2_score #--> kelas2 untuk pengukuran/evaluasi hasil\n",
        "from sklearn.model_selection import train_test_split #--> kelas untuk melakukan split dataset"
      ],
      "metadata": {
        "id": "Ko8l6Pak2Sde"
      },
      "execution_count": null,
      "outputs": []
    },
    {
      "cell_type": "markdown",
      "source": [
        "Kita akan menggunakan dataset diabetes yang disediakan oleh scikit learn. Akan tetapi untuk simplifikasi, kita hanya akan menggunakan salah satu fitur/kolom numerik saja, yaitu kolom bmi.\n",
        "\n",
        "Berikut ini penjelasan dari dataset tersebut:"
      ],
      "metadata": {
        "id": "emoAVa3jl7tu"
      }
    },
    {
      "cell_type": "code",
      "source": [
        "print(datasets.load_diabetes()['DESCR'])"
      ],
      "metadata": {
        "id": "jpvCiLATn2_i"
      },
      "execution_count": null,
      "outputs": []
    },
    {
      "cell_type": "markdown",
      "source": [
        "##2.Mempersiapkan dataset\n"
      ],
      "metadata": {
        "id": "QYGn0wyS36rA"
      }
    },
    {
      "cell_type": "markdown",
      "source": [
        "###2.1 Loading dataset\n",
        "\n",
        "Scikit learn estimator memerlukan masukan berupa matriks fitur dan array target.\n",
        "Kita akan gunakan option `as_frame=True` untuk mendapatkan return value berupa Pandas DataFrame."
      ],
      "metadata": {
        "id": "vE80cF2WxEMg"
      }
    },
    {
      "cell_type": "code",
      "source": [
        "# Load the diabetes dataset\n",
        "diabetes_X, diabetes_y = datasets.load_diabetes(return_X_y=True)"
      ],
      "metadata": {
        "id": "0M1zApaql9ML"
      },
      "execution_count": null,
      "outputs": []
    },
    {
      "cell_type": "code",
      "source": [
        "type(diabetes_X)"
      ],
      "metadata": {
        "id": "qujnav0hH7-c"
      },
      "execution_count": null,
      "outputs": []
    },
    {
      "cell_type": "code",
      "source": [
        "diabetes_X"
      ],
      "metadata": {
        "id": "I2S7_dE4_bgU"
      },
      "execution_count": null,
      "outputs": []
    },
    {
      "cell_type": "code",
      "source": [
        "diabetes_X.shape"
      ],
      "metadata": {
        "id": "lCKNcFEqID_4"
      },
      "execution_count": null,
      "outputs": []
    },
    {
      "cell_type": "code",
      "source": [
        "df = pd.DataFrame(diabetes_X, columns = ['age','sex','bmi', 'bp', 'tc', 'ldl', 'hdl', 'tch', 'ltg', 'glu'])"
      ],
      "metadata": {
        "id": "iQEAJO_iI8ys"
      },
      "execution_count": null,
      "outputs": []
    },
    {
      "cell_type": "code",
      "source": [
        "df.head()"
      ],
      "metadata": {
        "id": "twF7OrtFJcgk"
      },
      "execution_count": null,
      "outputs": []
    },
    {
      "cell_type": "code",
      "source": [
        "df.describe()"
      ],
      "metadata": {
        "id": "Fm4IC8diJfo5"
      },
      "execution_count": null,
      "outputs": []
    },
    {
      "cell_type": "markdown",
      "source": [
        "##2.2 Split data menjadi train-set dan test-set. \n",
        "Kita ambil perbandingan 80:20 untuk train:test"
      ],
      "metadata": {
        "id": "8dWp2_wL6FZ_"
      }
    },
    {
      "cell_type": "code",
      "source": [
        "Xtrain, Xtest, ytrain, ytest = train_test_split(diabetes_X, diabetes_y, \n",
        "                                                train_size=.8, random_state=1)"
      ],
      "metadata": {
        "id": "7vQDkwXl6FzN"
      },
      "execution_count": null,
      "outputs": []
    },
    {
      "cell_type": "markdown",
      "source": [
        "##3.Membuat instance model & set hyperparameters\n",
        "\n",
        "Untuk soal ini kita tidak menggunakan hyperparameter apapun."
      ],
      "metadata": {
        "id": "LT7aT6L26LRd"
      }
    },
    {
      "cell_type": "code",
      "source": [
        "# Create linear regression object\n",
        "regr = linear_model.LinearRegression()"
      ],
      "metadata": {
        "id": "br3vf6vI6Lso"
      },
      "execution_count": null,
      "outputs": []
    },
    {
      "cell_type": "markdown",
      "source": [
        "##4.Training model"
      ],
      "metadata": {
        "id": "aUKTk5Bu6P8K"
      }
    },
    {
      "cell_type": "code",
      "source": [
        "# Train the model using the training sets\n",
        "regr.fit(Xtrain, ytrain)"
      ],
      "metadata": {
        "id": "_-3pxNVw6Ql-"
      },
      "execution_count": null,
      "outputs": []
    },
    {
      "cell_type": "markdown",
      "source": [
        ""
      ],
      "metadata": {
        "id": "yJhm_d2wYtTF"
      }
    },
    {
      "cell_type": "code",
      "source": [
        "print(\"Model slope:    \", regr.coef_[0])\n",
        "print(\"Model intercept:\", regr.intercept_)"
      ],
      "metadata": {
        "id": "avWwHsxHYtgB"
      },
      "execution_count": null,
      "outputs": []
    },
    {
      "cell_type": "markdown",
      "source": [
        "##5.Melakukan prediksi dengan test-set"
      ],
      "metadata": {
        "id": "G7yllO4L6T6U"
      }
    },
    {
      "cell_type": "code",
      "source": [
        "# Make predictions using the testing set\n",
        "diabetes_y_pred = regr.predict(Xtest)"
      ],
      "metadata": {
        "id": "mVa-LBHj6V7t"
      },
      "execution_count": null,
      "outputs": []
    },
    {
      "cell_type": "markdown",
      "source": [
        "##6.Evaluasi \n",
        "\n",
        "Kita gunakan MSE dan r-squared"
      ],
      "metadata": {
        "id": "KJm2Ankt6YAr"
      }
    },
    {
      "cell_type": "code",
      "source": [
        "# The coefficients\n",
        "print(\"Coefficients: \\n\", regr.coef_)\n",
        "\n",
        "print(\"\\nMean squared error: %.4f\" % mean_squared_error(ytest, diabetes_y_pred))\n",
        "print(\"\\nRoot Mean squared error: %.4f\" % mean_squared_error(ytest, diabetes_y_pred,squared=False))\n",
        "print(\"Coefficient of determination: %.4f\" % r2_score(ytest, diabetes_y_pred))\n"
      ],
      "metadata": {
        "id": "UFrHfkOs6cur"
      },
      "execution_count": null,
      "outputs": []
    },
    {
      "cell_type": "code",
      "source": [
        "# Plot outputs\n",
        "plt.scatter(ytest, diabetes_y_pred, color=\"black\")\n",
        "#plt.plot(diabetes_X_test, diabetes_y_pred, color=\"blue\", linewidth=3)\n",
        "plt.plot([50,350], [50,350], color=\"blue\", linewidth=2)\n",
        "\n",
        "plt.xlabel('Actual')\n",
        "plt.ylabel('Predicted')\n",
        "\n",
        "plt.show()"
      ],
      "metadata": {
        "id": "Caxc6tPw5rO1"
      },
      "execution_count": null,
      "outputs": []
    }
  ]
}