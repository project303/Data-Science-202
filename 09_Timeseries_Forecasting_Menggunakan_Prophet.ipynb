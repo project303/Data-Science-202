{
  "nbformat": 4,
  "nbformat_minor": 0,
  "metadata": {
    "colab": {
      "name": "09 - Timeseries Forecasting Menggunakan Prophet.ipynb",
      "provenance": [],
      "collapsed_sections": []
    },
    "kernelspec": {
      "name": "python3",
      "display_name": "Python 3"
    },
    "language_info": {
      "name": "python"
    }
  },
  "cells": [
    {
      "cell_type": "markdown",
      "source": [
        "## Persiapan Dataset"
      ],
      "metadata": {
        "id": "1YKAbM64L52h"
      }
    },
    {
      "cell_type": "code",
      "execution_count": null,
      "metadata": {
        "id": "SgMiHoEgFAoC"
      },
      "outputs": [],
      "source": [
        "! wget https://www.dropbox.com/s/jteeamhlxigq6t0/tourist_arrivals.csv"
      ]
    },
    {
      "cell_type": "markdown",
      "source": [
        ""
      ],
      "metadata": {
        "id": "W7K3phn71tQc"
      }
    },
    {
      "cell_type": "code",
      "source": [
        "from datetime import datetime\n",
        "import numpy as np\n",
        "import pandas as pd\n",
        "import matplotlib.pyplot  as  plt\n",
        "from sklearn.metrics import mean_squared_error\n",
        "from math import sqrt\n",
        "\n",
        "#from statsmodels.tsa.arima.model import ARIMA\n",
        "from statsmodels.tsa.arima_model import ARIMA\n",
        "from statsmodels.tsa.statespace.sarimax import SARIMAX\n",
        "from fbprophet import Prophet"
      ],
      "metadata": {
        "id": "eBRXJbNmGZ5E"
      },
      "execution_count": null,
      "outputs": []
    },
    {
      "cell_type": "code",
      "source": [
        "df = pd.read_csv(\"tourist_arrivals.csv\")"
      ],
      "metadata": {
        "id": "LGk7QfPzGrjI"
      },
      "execution_count": null,
      "outputs": []
    },
    {
      "cell_type": "code",
      "source": [
        "df_tourist = df.copy()\n",
        "df_tourist['ds'] = pd.to_datetime(df_tourist['date'])"
      ],
      "metadata": {
        "id": "GDpOUE3RG1bn"
      },
      "execution_count": null,
      "outputs": []
    },
    {
      "cell_type": "code",
      "source": [
        "df_tourist.head(5)"
      ],
      "metadata": {
        "id": "qwW5D6utG9bf"
      },
      "execution_count": null,
      "outputs": []
    },
    {
      "cell_type": "code",
      "source": [
        "df_tourist.shape"
      ],
      "metadata": {
        "id": "prcXFxpqMM8E"
      },
      "execution_count": null,
      "outputs": []
    },
    {
      "cell_type": "code",
      "source": [
        "df_tourist.rename(columns = {'value':'y'}, inplace = True)"
      ],
      "metadata": {
        "id": "WFx35cqYHNZT"
      },
      "execution_count": null,
      "outputs": []
    },
    {
      "cell_type": "markdown",
      "source": [
        "## Split Dataset"
      ],
      "metadata": {
        "id": "k7WE_U0QMXop"
      }
    },
    {
      "cell_type": "code",
      "source": [
        "df_train = df_tourist[['ds', 'y']].iloc[:70]\n",
        "df_predict = df_tourist[['ds']]"
      ],
      "metadata": {
        "id": "kSWqLJBuJDW4"
      },
      "execution_count": null,
      "outputs": []
    },
    {
      "cell_type": "code",
      "source": [
        "df_train.shape"
      ],
      "metadata": {
        "id": "j3uMx9HLJu-3"
      },
      "execution_count": null,
      "outputs": []
    },
    {
      "cell_type": "code",
      "source": [
        "df_predict.head()"
      ],
      "metadata": {
        "id": "_raoqd1KJxo_"
      },
      "execution_count": null,
      "outputs": []
    },
    {
      "cell_type": "markdown",
      "source": [
        "## Model Prophet"
      ],
      "metadata": {
        "id": "4DHTf8tGMgfB"
      }
    },
    {
      "cell_type": "code",
      "source": [
        "# Fitting a Prophet model\n",
        "model = Prophet()\n",
        "model.fit(df_train)"
      ],
      "metadata": {
        "id": "9tX7zUnPJnHf"
      },
      "execution_count": null,
      "outputs": []
    },
    {
      "cell_type": "code",
      "source": [
        "forecast = model.predict(df_predict)\n",
        "forecast.head()"
      ],
      "metadata": {
        "id": "U8_17PvkMfsF"
      },
      "execution_count": null,
      "outputs": []
    },
    {
      "cell_type": "code",
      "source": [
        "type(forecast)"
      ],
      "metadata": {
        "id": "NHyKHbuPKE2D"
      },
      "execution_count": null,
      "outputs": []
    },
    {
      "cell_type": "code",
      "source": [
        "plt.figure(figsize=(20,5))\n",
        "plt.plot(df_tourist['y'], label='actual', color='blue')\n",
        "plt.plot(forecast['yhat'], label='test', color='green')\n",
        "plt.grid()\n",
        "plt.xticks(rotation=90)\n",
        "plt.show()"
      ],
      "metadata": {
        "id": "QxBuVpX1KJAW"
      },
      "execution_count": null,
      "outputs": []
    },
    {
      "cell_type": "code",
      "source": [
        "from statsmodels.tools.eval_measures import rmse\n",
        "\n",
        "nrmse = rmse(forecast['yhat'], df_tourist['y'])/(np.max(df_tourist['y'])-np.min(df_tourist['y']))\n",
        "print('RMSE=%.3f' % (nrmse))\n"
      ],
      "metadata": {
        "id": "XubiG98OKexf"
      },
      "execution_count": null,
      "outputs": []
    },
    {
      "cell_type": "code",
      "source": [
        ""
      ],
      "metadata": {
        "id": "VDu5LH8mLYsA"
      },
      "execution_count": null,
      "outputs": []
    }
  ]
}