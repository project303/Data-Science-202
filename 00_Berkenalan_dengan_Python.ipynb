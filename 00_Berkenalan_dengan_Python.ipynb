{
  "cells": [
    {
      "cell_type": "markdown",
      "metadata": {
        "id": "G-ObbCTPn5pn"
      },
      "source": [
        "# BERKENALAN DENGAN PYTHON"
      ]
    },
    {
      "cell_type": "markdown",
      "metadata": {
        "id": "eNzdSV0an5pq"
      },
      "source": [
        "Python adalah salah satu pilihan bahasa pemrograman yang cukup banyak digunakan, tak terkecuali untuk bidang pengolahan dan analisa data. Ada beberapa alasan menggunakan Python:\n",
        "#### 1. Populer\n",
        "Python cukup banyak digunakan untuk berbagai hal dan banyak orang melakukan sharing knowledge baik melalui tulisan maupun video, sehingga kita dapat dengan mudah untuk mempelajarinya. Yang terpenting adalah dapat dengan mudah memperoleh solusi jika kita terkendala\n",
        "\n",
        "#### 2. Mudah\n",
        "Dari sisi pemrograman Python cukup mudah digunakan. Python memiliki strusktur yang cukup baik sehingga mudah dibaca. Python juga mengadopsi standar pemrograman, sama seperti bahasa pemrograman lain, sehingga jika telah perpengalaman dengan bahasa lain, maka akan cukup mudah beradaptasi dengan Python.\n",
        "Dari sisi infrastruktur, Python mudah untuk diinstall, misalkan menggunakan Anaconda. Atau dapat menggunakan service gratis, misalkan menggunakan google colab, yang dapat digunaan tanpa perlu malakukan instalasi.\n",
        "\n",
        "#### 3. Lengkap\n",
        "Pyhton menyediakan berbagai library yang dapat digunakan untuk memecahkan berbagai permasalahan, mulai dari pembuatan aplikasi hingga untuk analisa data. \n",
        "\n",
        "Banyak hal menarik pada Python, tapi kita tidak akan berpanjang lebar disitu. Yuk langsung saja kita **KODING !**\n"
      ]
    },
    {
      "cell_type": "code",
      "execution_count": null,
      "metadata": {
        "id": "TQ84hd3nn5pv"
      },
      "outputs": [],
      "source": [
        ""
      ]
    },
    {
      "cell_type": "markdown",
      "metadata": {
        "id": "RgolDgDAn5pw"
      },
      "source": [
        "## Perintah pada python dibatasi oleh baris"
      ]
    },
    {
      "cell_type": "code",
      "execution_count": null,
      "metadata": {
        "id": "O8Dl40qtn5px",
        "outputId": "4ce46f31-390a-4c7f-d707-44cf600d2d9d"
      },
      "outputs": [
        {
          "name": "stdout",
          "output_type": "stream",
          "text": [
            "Apa kabar dunia\n",
            "Apa kabar dunia\n",
            "Apa kabar dunia\n"
          ]
        }
      ],
      "source": [
        "print(\"Apa kabar dunia\")\n",
        "print  (\"Apa kabar dunia\")\n",
        "print('Apa kabar dunia')"
      ]
    },
    {
      "cell_type": "markdown",
      "metadata": {
        "id": "5Rr2a6kan5p0"
      },
      "source": [
        "Jika ingin menuliskan dalam satu baris, maka antar perintah dibatasi oleh koma."
      ]
    },
    {
      "cell_type": "code",
      "execution_count": null,
      "metadata": {
        "id": "MPpQRqmjn5p2",
        "outputId": "2f677762-d017-4bdd-987e-9a7e41cdb13a"
      },
      "outputs": [
        {
          "name": "stdout",
          "output_type": "stream",
          "text": [
            "Apa kabar dunia\n",
            "Apa kabar dunia\n",
            "Apa kabar dunia\n"
          ]
        }
      ],
      "source": [
        "print(\"Apa kabar dunia\"); print(\"Apa kabar dunia\")\n",
        "print('Apa kabar dunia')"
      ]
    },
    {
      "cell_type": "markdown",
      "metadata": {
        "id": "RMS-BKxFn5p3"
      },
      "source": [
        "Untuk penulisan string pada baris yang berbeda dapat menggunakan tiga simbol **\"**"
      ]
    },
    {
      "cell_type": "code",
      "execution_count": null,
      "metadata": {
        "id": "SLey62-An5p5",
        "outputId": "3da2da33-c93c-4c43-d2e0-c2ddbb5a9773"
      },
      "outputs": [
        {
          "name": "stdout",
          "output_type": "stream",
          "text": [
            "\n",
            "baris ke satu\n",
            "baris ke dua\n",
            " baris ke tiga\n",
            "   baris ke empat\n"
          ]
        }
      ],
      "source": [
        "print(\"\"\"\n",
        "baris ke satu\n",
        "baris ke dua\n",
        " baris ke tiga\n",
        "   baris ke empat\"\"\")"
      ]
    },
    {
      "cell_type": "markdown",
      "metadata": {
        "id": "cUmEcPCvn5p7"
      },
      "source": [
        "## Komentar"
      ]
    },
    {
      "cell_type": "markdown",
      "metadata": {
        "id": "lJUm90Gin5p9"
      },
      "source": [
        "Untuk memberikan komentar atau catatan pada kode, yang nantinya tidak akan diproses maka diawali dengan simbol **#**"
      ]
    },
    {
      "cell_type": "code",
      "execution_count": null,
      "metadata": {
        "id": "DhEZJ5zVn5p-"
      },
      "outputs": [],
      "source": [
        "# ini komentar"
      ]
    },
    {
      "cell_type": "code",
      "execution_count": null,
      "metadata": {
        "id": "xb4m8KdFn5qA",
        "outputId": "52b76893-f58f-4364-c2ff-674a9ec34e01"
      },
      "outputs": [
        {
          "name": "stdout",
          "output_type": "stream",
          "text": [
            "ini bukan komentar\n"
          ]
        }
      ],
      "source": [
        "print('ini bukan komentar') #ini komentar"
      ]
    },
    {
      "cell_type": "markdown",
      "metadata": {
        "id": "_Ms5xz6ln5qB"
      },
      "source": [
        "## Case sensitive"
      ]
    },
    {
      "cell_type": "markdown",
      "metadata": {
        "id": "YfNiQSjjn5qC"
      },
      "source": [
        "Python adalah case sensitive, artinya Python akan membedakan huruf kapital maupun bukan. Misalkan fungsi **print**, tidak dapat ditulis sebagai **Print**"
      ]
    },
    {
      "cell_type": "code",
      "execution_count": null,
      "metadata": {
        "id": "7VPnDK0Sn5qD",
        "outputId": "e7b99329-4098-40cb-c987-ab6b495f6b7a"
      },
      "outputs": [
        {
          "ename": "NameError",
          "evalue": "name 'Print' is not defined",
          "output_type": "error",
          "traceback": [
            "\u001b[1;31m---------------------------------------------------------------------------\u001b[0m",
            "\u001b[1;31mNameError\u001b[0m                                 Traceback (most recent call last)",
            "\u001b[1;32m<ipython-input-6-b33d3f360c16>\u001b[0m in \u001b[0;36m<module>\u001b[1;34m\u001b[0m\n\u001b[1;32m----> 1\u001b[1;33m \u001b[0mPrint\u001b[0m\u001b[1;33m(\u001b[0m\u001b[1;34m\"a\"\u001b[0m\u001b[1;33m)\u001b[0m\u001b[1;33m\u001b[0m\u001b[1;33m\u001b[0m\u001b[0m\n\u001b[0m",
            "\u001b[1;31mNameError\u001b[0m: name 'Print' is not defined"
          ]
        }
      ],
      "source": [
        "Print(\"a\")"
      ]
    },
    {
      "cell_type": "markdown",
      "metadata": {
        "id": "In3mCAain5qE"
      },
      "source": [
        "## Deklarasi variable"
      ]
    },
    {
      "cell_type": "markdown",
      "metadata": {
        "id": "voXLzD01n5qF"
      },
      "source": [
        "Variabel pada Python adalah dinamis, tanpa harus mendeklarasikan typenya. Type variable akan secara otomatis terbentuk jika variable telah diberikan nilai"
      ]
    },
    {
      "cell_type": "code",
      "execution_count": null,
      "metadata": {
        "id": "5zJI3mkTn5qF",
        "outputId": "2f64e62b-3e11-4315-9a9c-9453974f8756"
      },
      "outputs": [
        {
          "name": "stdout",
          "output_type": "stream",
          "text": [
            "<class 'int'>\n",
            "3\n"
          ]
        }
      ],
      "source": [
        "x = 3\n",
        "print(type(x)) # Prints \"<class 'int'>\"\n",
        "print(x)"
      ]
    },
    {
      "cell_type": "markdown",
      "metadata": {
        "id": "5HpWOKSfn5qG"
      },
      "source": [
        "Variabel **x** memiliki tipe int, karena nilai yang diberikan adalah bertipe numerik, dalam hal ini int"
      ]
    },
    {
      "cell_type": "markdown",
      "metadata": {
        "id": "VyLqGcJwn5qH"
      },
      "source": [
        "Tipe variable **x** akan berubah, ketika ada nilai tipe baru yang diberikan. Variable **x** yang semula bertipe int, akan berubah menjadi string"
      ]
    },
    {
      "cell_type": "code",
      "execution_count": null,
      "metadata": {
        "id": "e7XC-Voun5qH"
      },
      "outputs": [],
      "source": [
        "x = \"tiga\""
      ]
    },
    {
      "cell_type": "code",
      "execution_count": null,
      "metadata": {
        "id": "IW1L201xn5qJ",
        "outputId": "3a72acc5-9225-4ce2-a62e-07b35ebccfec"
      },
      "outputs": [
        {
          "name": "stdout",
          "output_type": "stream",
          "text": [
            "<class 'str'>\n",
            "tiga\n"
          ]
        }
      ],
      "source": [
        "print(type(x)) # Prints \"<class 'int'>\"\n",
        "print(x)"
      ]
    },
    {
      "cell_type": "code",
      "execution_count": null,
      "metadata": {
        "id": "HBFMeuVqn5qK",
        "outputId": "d919f5bd-fb16-41fa-cd8d-a12554b33adb"
      },
      "outputs": [
        {
          "ename": "NameError",
          "evalue": "name 'y' is not defined",
          "output_type": "error",
          "traceback": [
            "\u001b[1;31m---------------------------------------------------------------------------\u001b[0m",
            "\u001b[1;31mNameError\u001b[0m                                 Traceback (most recent call last)",
            "\u001b[1;32m<ipython-input-10-31fe00d90159>\u001b[0m in \u001b[0;36m<module>\u001b[1;34m\u001b[0m\n\u001b[1;32m----> 1\u001b[1;33m \u001b[0mprint\u001b[0m\u001b[1;33m(\u001b[0m\u001b[0mtype\u001b[0m\u001b[1;33m(\u001b[0m\u001b[0my\u001b[0m\u001b[1;33m)\u001b[0m\u001b[1;33m)\u001b[0m\u001b[1;33m\u001b[0m\u001b[1;33m\u001b[0m\u001b[0m\n\u001b[0m\u001b[0;32m      2\u001b[0m \u001b[0mprint\u001b[0m\u001b[1;33m(\u001b[0m\u001b[0my\u001b[0m\u001b[1;33m)\u001b[0m\u001b[1;33m\u001b[0m\u001b[1;33m\u001b[0m\u001b[0m\n",
            "\u001b[1;31mNameError\u001b[0m: name 'y' is not defined"
          ]
        }
      ],
      "source": [
        "print(type(y))\n",
        "print(y)"
      ]
    },
    {
      "cell_type": "markdown",
      "metadata": {
        "id": "Fu-cq5lcn5qL"
      },
      "source": [
        "## Sensitif terhadap indent"
      ]
    },
    {
      "cell_type": "code",
      "execution_count": null,
      "metadata": {
        "id": "kB4NbtdIn5qM",
        "outputId": "e2336868-1146-451a-db38-ea41f5a6c00c"
      },
      "outputs": [
        {
          "ename": "IndentationError",
          "evalue": "unexpected indent (<ipython-input-11-583b0f68f855>, line 2)",
          "output_type": "error",
          "traceback": [
            "\u001b[1;36m  File \u001b[1;32m\"<ipython-input-11-583b0f68f855>\"\u001b[1;36m, line \u001b[1;32m2\u001b[0m\n\u001b[1;33m    x = 4\u001b[0m\n\u001b[1;37m    ^\u001b[0m\n\u001b[1;31mIndentationError\u001b[0m\u001b[1;31m:\u001b[0m unexpected indent\n"
          ]
        }
      ],
      "source": [
        "x = 3\n",
        " x = 4"
      ]
    },
    {
      "cell_type": "code",
      "execution_count": null,
      "metadata": {
        "id": "CwIGbOTwn5qN",
        "outputId": "4a52a1a7-8306-45b6-ad99-6d9f829f54e3"
      },
      "outputs": [
        {
          "name": "stdout",
          "output_type": "stream",
          "text": [
            "1\n",
            "-\n",
            "2\n",
            "-\n",
            "3\n",
            "-\n"
          ]
        }
      ],
      "source": [
        "for x in [1, 2, 3]:\n",
        "    print(x)\n",
        "    print(\"-\")"
      ]
    },
    {
      "cell_type": "code",
      "execution_count": null,
      "metadata": {
        "id": "AJs3utrdn5qN",
        "outputId": "0b113a18-20b9-4b03-b9d0-4345cc080efa"
      },
      "outputs": [
        {
          "name": "stdout",
          "output_type": "stream",
          "text": [
            "1\n",
            "2\n",
            "3\n",
            "-\n"
          ]
        }
      ],
      "source": [
        "for x in [1, 2, 3]:\n",
        "    print(x)\n",
        "print(\"-\")"
      ]
    },
    {
      "cell_type": "markdown",
      "metadata": {
        "id": "cdR6RQian5qO"
      },
      "source": [
        "## Kondisional/Percabangan"
      ]
    },
    {
      "cell_type": "code",
      "execution_count": null,
      "metadata": {
        "id": "seyibNVtn5qQ",
        "outputId": "f1c2bf90-2749-40e2-9ba6-d11d73e231cf"
      },
      "outputs": [
        {
          "name": "stdout",
          "output_type": "stream",
          "text": [
            "lebih besar dari 5\n",
            "6\n"
          ]
        }
      ],
      "source": [
        "x = 6\n",
        "if x == 0:\n",
        "    print(x, ': nol')\n",
        "elif x == 1:\n",
        "    print(x, ': satu')\n",
        "elif x > 1 and x <= 5:\n",
        "    print('antara 2 dan 5')\n",
        "else:\n",
        "    print('lebih besar dari 5')\n",
        "print(x)"
      ]
    },
    {
      "cell_type": "markdown",
      "metadata": {
        "id": "5DUL38SSn5qQ"
      },
      "source": [
        "## Perulangan"
      ]
    },
    {
      "cell_type": "code",
      "execution_count": null,
      "metadata": {
        "id": "Zx80-Hgjn5qS",
        "outputId": "81e12e1f-0807-43b9-8c13-cf9f5c6e2327"
      },
      "outputs": [
        {
          "name": "stdout",
          "output_type": "stream",
          "text": [
            "1\n",
            "2\n",
            "3\n"
          ]
        }
      ],
      "source": [
        "for x in [1, 2, 3]:\n",
        "    print(x)"
      ]
    },
    {
      "cell_type": "code",
      "execution_count": null,
      "metadata": {
        "id": "kKJFDbwen5qS",
        "outputId": "c5278d68-bd52-48ec-b695-18c5003b6a8f"
      },
      "outputs": [
        {
          "name": "stdout",
          "output_type": "stream",
          "text": [
            "1\n",
            "3\n",
            "5\n"
          ]
        }
      ],
      "source": [
        "for x in range(1, 6, 2):\n",
        "    print(x)"
      ]
    },
    {
      "cell_type": "code",
      "execution_count": null,
      "metadata": {
        "id": "sAjMfIm3n5qT",
        "outputId": "f4099b11-6f21-4075-c073-19608fae8189"
      },
      "outputs": [
        {
          "name": "stdout",
          "output_type": "stream",
          "text": [
            "1\n",
            "2\n",
            "3\n",
            "4\n"
          ]
        }
      ],
      "source": [
        "x = 1\n",
        "while x < 5:\n",
        "    print(x)\n",
        "    x = x + 1"
      ]
    },
    {
      "cell_type": "markdown",
      "metadata": {
        "id": "o0gEI94bn5qU"
      },
      "source": [
        "## Fungsi"
      ]
    },
    {
      "cell_type": "code",
      "execution_count": null,
      "metadata": {
        "id": "-TCzXW1rn5qU"
      },
      "outputs": [],
      "source": [
        "def ubah_ke_text(x):\n",
        "    hasil = \"tidak ada\"\n",
        "    if x == 0:\n",
        "        hasil = \"nol\"\n",
        "    elif x == 1:\n",
        "        hasil = \"satu\"\n",
        "    elif x == 2:\n",
        "        hasil = \"dua\"\n",
        "    return hasil"
      ]
    },
    {
      "cell_type": "code",
      "execution_count": null,
      "metadata": {
        "id": "Qm_ii7Ign5qU",
        "outputId": "9ee88a2f-b9e1-4689-fd45-f5969a91c1e8"
      },
      "outputs": [
        {
          "name": "stdout",
          "output_type": "stream",
          "text": [
            "dua\n"
          ]
        }
      ],
      "source": [
        "x = 2\n",
        "y = ubah_ke_text(x)\n",
        "print(y)"
      ]
    },
    {
      "cell_type": "code",
      "execution_count": null,
      "metadata": {
        "id": "hCMDvl93n5qV"
      },
      "outputs": [],
      "source": [
        "def fungsi_lain(x, y):\n",
        "    hasil1 = \"tidak ada\"\n",
        "    hasil2 = x + y\n",
        "    if x == 0:\n",
        "        hasil1 = \"nol\"\n",
        "    elif x == 1:\n",
        "        hasil1 = \"satu\"\n",
        "    elif x == 2:\n",
        "        hasil1 = \"dua\"\n",
        "    return hasil1, hasil2"
      ]
    },
    {
      "cell_type": "code",
      "execution_count": null,
      "metadata": {
        "id": "kDFgzHgdn5qW",
        "outputId": "13356d33-e6ef-4de7-98ee-e099e5f6b44a"
      },
      "outputs": [
        {
          "name": "stdout",
          "output_type": "stream",
          "text": [
            "dua\n",
            "4\n"
          ]
        }
      ],
      "source": [
        "x = 2\n",
        "res1, res2 = fungsi_lain(x, 2)\n",
        "print(res1)\n",
        "print(res2)"
      ]
    },
    {
      "cell_type": "markdown",
      "metadata": {
        "id": "5B9BZAfVn5qX"
      },
      "source": [
        "## Menggunakan Paket Library"
      ]
    },
    {
      "cell_type": "code",
      "execution_count": null,
      "metadata": {
        "id": "Bed2bxFQn5qX",
        "outputId": "64458847-2b36-4533-f04e-2610c37211aa"
      },
      "outputs": [
        {
          "name": "stdout",
          "output_type": "stream",
          "text": [
            "Python: 3.7.7 (default, May  6 2020, 11:45:54) [MSC v.1916 64 bit (AMD64)]\n"
          ]
        }
      ],
      "source": [
        "# Python version\n",
        "import sys\n",
        "print('Python: {}'.format(sys.version))"
      ]
    },
    {
      "cell_type": "code",
      "execution_count": null,
      "metadata": {
        "id": "cqwQf2mCn5qY",
        "outputId": "28503848-5dc0-4d7a-c8b6-00791ce4b4d4"
      },
      "outputs": [
        {
          "name": "stdout",
          "output_type": "stream",
          "text": [
            "numpy: 1.18.1\n"
          ]
        }
      ],
      "source": [
        "import numpy\n",
        "print('numpy: {}'.format(numpy.__version__))"
      ]
    },
    {
      "cell_type": "code",
      "execution_count": null,
      "metadata": {
        "id": "luQNguxfn5qZ",
        "outputId": "787ac3c9-0eaa-4ab2-99aa-3bbb6dc2843e"
      },
      "outputs": [
        {
          "name": "stdout",
          "output_type": "stream",
          "text": [
            "pandas: 1.0.3\n"
          ]
        }
      ],
      "source": [
        "import pandas as pd\n",
        "print('pandas: {}'.format(pd.__version__))"
      ]
    },
    {
      "cell_type": "code",
      "execution_count": null,
      "metadata": {
        "id": "hhxlCeQ5n5qZ",
        "outputId": "721089d5-3819-4877-8ba9-a3a959c8bddb"
      },
      "outputs": [
        {
          "data": {
            "text/html": [
              "<div>\n",
              "<style scoped>\n",
              "    .dataframe tbody tr th:only-of-type {\n",
              "        vertical-align: middle;\n",
              "    }\n",
              "\n",
              "    .dataframe tbody tr th {\n",
              "        vertical-align: top;\n",
              "    }\n",
              "\n",
              "    .dataframe thead th {\n",
              "        text-align: right;\n",
              "    }\n",
              "</style>\n",
              "<table border=\"1\" class=\"dataframe\">\n",
              "  <thead>\n",
              "    <tr style=\"text-align: right;\">\n",
              "      <th></th>\n",
              "      <th>col1</th>\n",
              "      <th>col2</th>\n",
              "      <th>col3</th>\n",
              "    </tr>\n",
              "  </thead>\n",
              "  <tbody>\n",
              "    <tr>\n",
              "      <th>0</th>\n",
              "      <td>4</td>\n",
              "      <td>10</td>\n",
              "      <td>100</td>\n",
              "    </tr>\n",
              "    <tr>\n",
              "      <th>1</th>\n",
              "      <td>5</td>\n",
              "      <td>20</td>\n",
              "      <td>50</td>\n",
              "    </tr>\n",
              "    <tr>\n",
              "      <th>2</th>\n",
              "      <td>6</td>\n",
              "      <td>30</td>\n",
              "      <td>-30</td>\n",
              "    </tr>\n",
              "    <tr>\n",
              "      <th>3</th>\n",
              "      <td>7</td>\n",
              "      <td>40</td>\n",
              "      <td>-50</td>\n",
              "    </tr>\n",
              "  </tbody>\n",
              "</table>\n",
              "</div>"
            ],
            "text/plain": [
              "   col1  col2  col3\n",
              "0     4    10   100\n",
              "1     5    20    50\n",
              "2     6    30   -30\n",
              "3     7    40   -50"
            ]
          },
          "execution_count": 25,
          "metadata": {},
          "output_type": "execute_result"
        }
      ],
      "source": [
        "df = pd.DataFrame({'col1': [4, 5, 6, 7],\n",
        "                   'col2': [10, 20, 30, 40],\n",
        "                   'col3': [100, 50, -30, -50]})\n",
        "df"
      ]
    },
    {
      "cell_type": "code",
      "execution_count": null,
      "metadata": {
        "id": "UYBGGZawn5qa"
      },
      "outputs": [],
      "source": [
        ""
      ]
    }
  ],
  "metadata": {
    "kernelspec": {
      "display_name": "Python 3",
      "language": "python",
      "name": "python3"
    },
    "language_info": {
      "codemirror_mode": {
        "name": "ipython",
        "version": 3
      },
      "file_extension": ".py",
      "mimetype": "text/x-python",
      "name": "python",
      "nbconvert_exporter": "python",
      "pygments_lexer": "ipython3",
      "version": "3.7.7"
    },
    "colab": {
      "name": "00 - Berkenalan dengan Python.ipynb",
      "provenance": []
    }
  },
  "nbformat": 4,
  "nbformat_minor": 0
}