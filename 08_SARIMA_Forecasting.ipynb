{
  "nbformat": 4,
  "nbformat_minor": 0,
  "metadata": {
    "colab": {
      "name": "08 - SARIMA Forecasting.ipynb",
      "provenance": [],
      "collapsed_sections": []
    },
    "kernelspec": {
      "name": "python3",
      "display_name": "Python 3"
    },
    "language_info": {
      "name": "python"
    }
  },
  "cells": [
    {
      "cell_type": "markdown",
      "source": [
        "## Persiapan Dataset"
      ],
      "metadata": {
        "id": "aY8S_y4RyRgi"
      }
    },
    {
      "cell_type": "markdown",
      "source": [
        "### Download dataset"
      ],
      "metadata": {
        "id": "MnSglG2nyV1b"
      }
    },
    {
      "cell_type": "code",
      "execution_count": null,
      "metadata": {
        "id": "Ka-WK9qbyQ-M"
      },
      "outputs": [],
      "source": [
        "! wget https://www.dropbox.com/s/jteeamhlxigq6t0/tourist_arrivals.csv"
      ]
    },
    {
      "cell_type": "code",
      "source": [
        "! head tourist_arrivals.csv"
      ],
      "metadata": {
        "id": "Q-XGU-63yZfu"
      },
      "execution_count": null,
      "outputs": []
    },
    {
      "cell_type": "markdown",
      "source": [
        "### Persiapan Library"
      ],
      "metadata": {
        "id": "CUgwk_5RyjPW"
      }
    },
    {
      "cell_type": "code",
      "source": [
        "from datetime import datetime\n",
        "import numpy as np\n",
        "import pandas as pd\n",
        "import matplotlib.pyplot  as  plt\n",
        "from sklearn.metrics import mean_squared_error\n",
        "from math import sqrt\n",
        "\n",
        "#from statsmodels.tsa.arima.model import ARIMA\n",
        "from statsmodels.tsa.arima_model import ARIMA\n",
        "from statsmodels.tsa.statespace.sarimax import SARIMAX"
      ],
      "metadata": {
        "id": "uQ9NI70iygex"
      },
      "execution_count": null,
      "outputs": []
    },
    {
      "cell_type": "code",
      "source": [
        "# Helper function for arima grid serach\n",
        "import warnings\n",
        "\n",
        "def evaluate_arima_model(data_train, data_test, arima_order, print_result = False):\n",
        "\n",
        "    model = ARIMA(data_train, order=arima_order)\n",
        "    model_fit = model.fit()\n",
        "    fc = model_fit.forecast(data_test.size, alpha=0.05)\n",
        "    fc_series = pd.Series(fc[0], index=data_test.index)\n",
        "\n",
        "    rmse = sqrt(mean_squared_error(data_test, fc_series))\n",
        "    #rmse = model_fit.aic\n",
        "\n",
        "    if(print_result):\n",
        "      plt.figure(figsize=(20,5))\n",
        "\n",
        "      # plt.plot(ts_train, label='train')\n",
        "      plt.plot(data_test, label='actual')\n",
        "      plt.plot(fc_series, label='model arima')\n",
        "\n",
        "      plt.title('ARIMA Evaluation Model')\n",
        "      plt.legend()\n",
        "      plt.grid()\n",
        "      plt.xticks(rotation=90)\n",
        "      plt.show()\n",
        "\n",
        "\n",
        "    return rmse\n",
        "\n",
        "def evaluate_models(data_train, data_test, p_values, d_values, q_values):\n",
        "\t\n",
        "\tbest_score, best_cfg = float(\"inf\"), None\n",
        "\tfor p in p_values:\n",
        "\t\tfor d in d_values:\n",
        "\t\t\tfor q in q_values:\n",
        "\t\t\t\torder = (p,d,q)\n",
        "\t\t\t\ttry:\n",
        "\t\t\t\t\trmse = evaluate_arima_model(data_train, data_test, order)\n",
        "\t\t\t\t\tif rmse < best_score:\n",
        "\t\t\t\t\t\tbest_score, best_cfg = rmse, order\n",
        "\t\t\t\t\tprint('ARIMA%s RMSE=%.3f' % (order,rmse))\n",
        "\t\t\t\texcept:\n",
        "\t\t\t\t\tcontinue\n",
        "\tprint('Best ARIMA%s RMSE=%.3f' % (best_cfg, best_score))"
      ],
      "metadata": {
        "id": "Q6odlOcl_dWy"
      },
      "execution_count": null,
      "outputs": []
    },
    {
      "cell_type": "markdown",
      "source": [
        "### Load dataset ke Pandas Dataframe"
      ],
      "metadata": {
        "id": "2A8A28uW_V8S"
      }
    },
    {
      "cell_type": "code",
      "source": [
        "df = pd.read_csv(\"tourist_arrivals.csv\")"
      ],
      "metadata": {
        "id": "GgehF4qBz_fA"
      },
      "execution_count": null,
      "outputs": []
    },
    {
      "cell_type": "code",
      "source": [
        "# tampilkan 5 baris pertama\n",
        "df.head(5)"
      ],
      "metadata": {
        "id": "qp3tZuhx0C4p"
      },
      "execution_count": null,
      "outputs": []
    },
    {
      "cell_type": "code",
      "source": [
        "df.describe()"
      ],
      "metadata": {
        "id": "d8J6meju0ErZ"
      },
      "execution_count": null,
      "outputs": []
    },
    {
      "cell_type": "code",
      "source": [
        "df.plot(y=[\"value\"], figsize = (20,5))"
      ],
      "metadata": {
        "id": "jALevilX0PGW"
      },
      "execution_count": null,
      "outputs": []
    },
    {
      "cell_type": "markdown",
      "source": [
        "### Rubah index ke datetime"
      ],
      "metadata": {
        "id": "he6Wkalk0cHo"
      }
    },
    {
      "cell_type": "code",
      "source": [
        "df_tourist = df.copy()"
      ],
      "metadata": {
        "id": "7wGrEXME0W68"
      },
      "execution_count": null,
      "outputs": []
    },
    {
      "cell_type": "code",
      "source": [
        "df_tourist['date_arrival'] = pd.to_datetime(df_tourist['date'])\n",
        "df_tourist.info()"
      ],
      "metadata": {
        "id": "ifRjE_xs0lWK"
      },
      "execution_count": null,
      "outputs": []
    },
    {
      "cell_type": "code",
      "source": [
        "df_tourist.head()"
      ],
      "metadata": {
        "id": "QFS7dpPW0yR8"
      },
      "execution_count": null,
      "outputs": []
    },
    {
      "cell_type": "code",
      "source": [
        "df_tourist.set_index('date_arrival', inplace=True)\n",
        "df_tourist.head()"
      ],
      "metadata": {
        "id": "OPpQRkty08I_"
      },
      "execution_count": null,
      "outputs": []
    },
    {
      "cell_type": "markdown",
      "source": [
        "### Split Dataset"
      ],
      "metadata": {
        "id": "s946if051SY6"
      }
    },
    {
      "cell_type": "code",
      "source": [
        "ts_tourist = df_tourist['value']\n",
        "ts_tourist.head()"
      ],
      "metadata": {
        "id": "i2noGgm71G10"
      },
      "execution_count": null,
      "outputs": []
    },
    {
      "cell_type": "code",
      "source": [
        "ts_train = ts_tourist[:'2017-12-01']\n",
        "ts_test = ts_tourist['2018-01-01':]"
      ],
      "metadata": {
        "id": "qBbm3pX71giy"
      },
      "execution_count": null,
      "outputs": []
    },
    {
      "cell_type": "code",
      "source": [
        "plt.figure(figsize=(20,5))\n",
        "plt.plot(ts_train, label='training', color='blue')\n",
        "plt.plot(ts_test, label='test', color='green')\n",
        "plt.grid()\n",
        "plt.xticks(rotation=90)\n",
        "plt.show()"
      ],
      "metadata": {
        "id": "nVQtGsp01qHm"
      },
      "execution_count": null,
      "outputs": []
    },
    {
      "cell_type": "markdown",
      "source": [
        "## Model ARIMA"
      ],
      "metadata": {
        "id": "yu7J135x3m0N"
      }
    },
    {
      "cell_type": "code",
      "source": [
        "p_values = [0, 1, 2, 3, 4, 6, 8, 9]\n",
        "d_values = range(0, 4)\n",
        "q_values = range(0, 3)\n",
        "warnings.filterwarnings(\"ignore\")\n",
        "evaluate_models(ts_train, ts_test, p_values, d_values, q_values)"
      ],
      "metadata": {
        "id": "XFMHNqv092fH"
      },
      "execution_count": null,
      "outputs": []
    },
    {
      "cell_type": "code",
      "source": [
        "rmse_val = evaluate_arima_model(ts_train, ts_test, (9, 1, 1), True)\n",
        "print('RMSE=%.3f' % (rmse_val))"
      ],
      "metadata": {
        "id": "1LJdWqLb-E0k"
      },
      "execution_count": null,
      "outputs": []
    },
    {
      "cell_type": "markdown",
      "source": [
        "## Model SARIMA"
      ],
      "metadata": {
        "id": "a_zicrm010Kf"
      }
    },
    {
      "cell_type": "code",
      "source": [
        "model = SARIMAX(ts_train, order=(10,1,7))\n",
        "# model = SARIMAX(ts_train, order=(9,1,1))\n",
        "model_sarima01 = model.fit()"
      ],
      "metadata": {
        "id": "IsfYhEWa1t_P"
      },
      "execution_count": null,
      "outputs": []
    },
    {
      "cell_type": "code",
      "source": [
        "n_test = ts_test.shape[0]\n",
        "ts_prediction01 = model_sarima01.forecast(steps=n_test)"
      ],
      "metadata": {
        "id": "sMTkndfb2I76"
      },
      "execution_count": null,
      "outputs": []
    },
    {
      "cell_type": "code",
      "source": [
        "plt.figure(figsize=(20,5))\n",
        "\n",
        "# plt.plot(ts_train, label='train')\n",
        "plt.plot(ts_test, label='actual')\n",
        "plt.plot(ts_prediction01, label='model 01')\n",
        "\n",
        "plt.title('SARIMA Forecasting')\n",
        "plt.legend()\n",
        "plt.grid()\n",
        "plt.xticks(rotation=90)\n",
        "plt.show()"
      ],
      "metadata": {
        "id": "M4085Djh2S6S"
      },
      "execution_count": null,
      "outputs": []
    },
    {
      "cell_type": "code",
      "source": [
        "from statsmodels.tools.eval_measures import rmse\n",
        "\n",
        "nrmse = rmse(ts_pred, ts_test)/(np.max(ts_test)-np.min(ts_test))\n",
        "print('RMSE=%.3f' % (nrmse))\n",
        "\n",
        "## RMSE=0.050"
      ],
      "metadata": {
        "id": "uNj1pd1w2wZe"
      },
      "execution_count": null,
      "outputs": []
    },
    {
      "cell_type": "code",
      "source": [
        ""
      ],
      "metadata": {
        "id": "t6tr7h0g3JEK"
      },
      "execution_count": null,
      "outputs": []
    },
    {
      "cell_type": "markdown",
      "source": [
        "## Model SARIMA with Seasonal"
      ],
      "metadata": {
        "id": "YiCWYG7P5Wzq"
      }
    },
    {
      "cell_type": "code",
      "source": [
        "model_seasonal = SARIMAX(ts_train, order=(10,1,7), seasonal_order=(1,0,1,12))\n",
        "model_fit_seasonal = model_seasonal.fit()"
      ],
      "metadata": {
        "id": "9RLzFd4a5auw"
      },
      "execution_count": null,
      "outputs": []
    },
    {
      "cell_type": "code",
      "source": [
        "n_test = ts_test.shape[0]\n",
        "ts_pred_seasonal = model_fit_seasonal.forecast(steps=n_test)"
      ],
      "metadata": {
        "id": "DSRH4wEvCy3g"
      },
      "execution_count": null,
      "outputs": []
    },
    {
      "cell_type": "code",
      "source": [
        "plt.figure(figsize=(20,5))\n",
        "\n",
        "# plt.plot(ts_train, label='train')\n",
        "plt.plot(ts_test, label='actual')\n",
        "plt.plot(ts_pred_seasonal, label='model 01')\n",
        "\n",
        "plt.title('SARIMA Forecasting')\n",
        "plt.legend()\n",
        "plt.grid()\n",
        "plt.xticks(rotation=90)\n",
        "plt.show()"
      ],
      "metadata": {
        "id": "ZLxxVaEnBEbC"
      },
      "execution_count": null,
      "outputs": []
    },
    {
      "cell_type": "code",
      "source": [
        "nrmse = rmse(ts_pred_seasonal, ts_test)/(np.max(ts_test)-np.min(ts_test))\n",
        "print('RMSE=%.3f' % (nrmse))"
      ],
      "metadata": {
        "id": "4XZOnIuRCsdz"
      },
      "execution_count": null,
      "outputs": []
    },
    {
      "cell_type": "code",
      "source": [
        ""
      ],
      "metadata": {
        "id": "jTeva_NqDDYr"
      },
      "execution_count": null,
      "outputs": []
    }
  ]
}