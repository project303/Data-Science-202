{
  "nbformat": 4,
  "nbformat_minor": 0,
  "metadata": {
    "colab": {
      "name": "04 - Klasifikasi  : Regresi Logistik",
      "provenance": [],
      "collapsed_sections": []
    },
    "kernelspec": {
      "name": "python3",
      "display_name": "Python 3"
    }
  },
  "cells": [
    {
      "cell_type": "markdown",
      "metadata": {
        "id": "xL-Nk3m_eQsX"
      },
      "source": [
        "# Introduction\n",
        "\n",
        "Kita akan menggunakan [Bank Marketing Dataset](https://www.kaggle.com/datasets/janiobachmann/bank-marketing-dataset) dari Kaggle. "
      ]
    },
    {
      "cell_type": "code",
      "metadata": {
        "id": "uI1mGf-RdvlD"
      },
      "source": [
        "import pandas as pd\n",
        "import numpy as np\n",
        "import warnings\n",
        "import seaborn as sns\n",
        "import matplotlib.pyplot as plt\n",
        "\n",
        "from sklearn.preprocessing import OneHotEncoder\n",
        "from sklearn.preprocessing import StandardScaler\n",
        "from sklearn.model_selection import train_test_split\n",
        "\n",
        "\n",
        "#plt.style.use('seaborn')"
      ],
      "execution_count": null,
      "outputs": []
    },
    {
      "cell_type": "markdown",
      "metadata": {
        "id": "1Ml3cXrzkuZ0"
      },
      "source": [
        "# Data Preprocessing\n"
      ]
    },
    {
      "cell_type": "markdown",
      "metadata": {
        "id": "Yf8uFbzy57qd"
      },
      "source": [
        "## Loading data\n",
        "\n",
        "Dokumentasi dataset dapat dilihat [di sini](https://archive.ics.uci.edu/ml/datasets/Bank+Marketing) \n",
        "\n",
        "Deskripsi kolom adalah sebagai berikut:\n",
        "\n",
        "Variabel input :\n",
        "1. age (numeric)\n",
        "2. job : type of job (categorical: `'admin.','blue-collar','entrepreneur','housemaid','management','retired','self-employed','services','student','technician','unemployed','unknown'`)\n",
        "3. marital : marital status (categorical: `'divorced','married','single','unknown'`; note: `'divorced'` means divorced or widowed)\n",
        "4. education (categorical: `'basic.4y','basic.6y','basic.9y','high.school','illiterate','professional.course','university.degree','unknown'`)\n",
        "5. default: has credit in default? (categorical: `'no','yes','unknown'`)\n",
        "6. housing: has housing loan? (categorical: `'no','yes','unknown'`)\n",
        "7. loan: has personal loan? (categorical: `'no','yes','unknown'`)\n",
        "8. contact: contact communication type (categorical: `'cellular','telephone'`)\n",
        "9. month: last contact month of year (categorical: `'jan', 'feb', 'mar', ..., 'nov', 'dec'`)\n",
        "10. day_of_week: last contact day of the week (categorical: `'mon','tue','wed','thu','fri'`)\n",
        "11. duration: last contact duration, in seconds (numeric). Important note: this attribute highly affects the output target (e.g., if duration=0 then y='no'). Yet, the duration is not known before a call is performed. Also, after the end of the call y is obviously known. Thus, this input should only be included for benchmark purposes and should be discarded if the intention is to have a realistic predictive model.\n",
        "12. campaign: number of contacts performed during this campaign and for this client (numeric, includes last contact)\n",
        "13. pdays: number of days that passed by after the client was last contacted from a previous campaign (numeric; 999 means client was not previously contacted)\n",
        "14. previous: number of contacts performed before this campaign and for this client (numeric)\n",
        "15. poutcome: outcome of the previous marketing campaign (categorical: `'failure','nonexistent','success'`)\n",
        "\n",
        "Target :\n",
        "21. deposit. has the client subscribed a term deposit? (binary: 'yes','no')"
      ]
    },
    {
      "cell_type": "code",
      "metadata": {
        "id": "qkY0_i5O586w"
      },
      "source": [
        "df_bank = pd.read_csv('https://raw.githubusercontent.com/urfie/DataAnalytics/main/bank.csv')\n",
        "\n",
        "print('Dataframe shape:', df_bank.shape)"
      ],
      "execution_count": null,
      "outputs": []
    },
    {
      "cell_type": "code",
      "source": [
        "df_bank.head()"
      ],
      "metadata": {
        "id": "eQS_vgy7oV6H"
      },
      "execution_count": null,
      "outputs": []
    },
    {
      "cell_type": "markdown",
      "source": [
        "##Data Cleansing"
      ],
      "metadata": {
        "id": "Mttmk9a3MrjU"
      }
    },
    {
      "cell_type": "markdown",
      "source": [
        "Menurut keterangan di atas, kolom durasi baru akan diketahui setelah panggilan dilakukan, yaitu setelah nilai target diketahui. Hal ini dapat digolongkan sebagai 'data leakage' yang akan mempengaruhi kualitas prediktor yang dihasilkan. Untuk itu kita perlu membuang kolom ini dari daftar fitur kita."
      ],
      "metadata": {
        "id": "F8n1QqY6kKoa"
      }
    },
    {
      "cell_type": "code",
      "source": [
        "df_bank = df_bank.drop('duration', axis=1)\n",
        "\n",
        "print('Dataframe shape:', df_bank.shape)\n",
        "df_bank.head()"
      ],
      "metadata": {
        "id": "jriqOATqkxLz"
      },
      "execution_count": null,
      "outputs": []
    },
    {
      "cell_type": "markdown",
      "metadata": {
        "id": "OKOO_Qj6odGa"
      },
      "source": [
        "### Cek nilai kosong/hilang\n",
        "\n",
        "Untuk mengecek apakah ada nilai/kolom yang kosong, kita gunakan perintah `isnull()` diikuti dengan `sum()`\n"
      ]
    },
    {
      "cell_type": "code",
      "metadata": {
        "id": "Rz75ZKRIoWdK"
      },
      "source": [
        "df_bank.isnull().sum()"
      ],
      "execution_count": null,
      "outputs": []
    },
    {
      "cell_type": "markdown",
      "metadata": {
        "id": "-on1EChPDf0N"
      },
      "source": [
        "Dari hasil di atas terlihat tidak ada kolom yang nilainya kosong/null/hilang. \n",
        "\n",
        "Jika ditemukan nilai kosong/null/hilang, ada beberapa pilihan yang dapat dilakukan : \n",
        "1. Hapus row dengan nilai null, atau\n",
        "2. Lakukan imputasi untuk nilai-nilai null tersebut. Nilai yang digunakan untuk imputasi dapat berupa nilai default, rata-rata, mode, dll."
      ]
    },
    {
      "cell_type": "markdown",
      "source": [
        "###Cek nilai unique tiap kolom\n",
        "\n",
        "Untuk kolom-kolom bertipe kategorik, kita bisa melakukan checking terhadap nilai unik-nya, untuk melihat apakah ada nilai invalid/tidak standar yang perlu kita perbaiki."
      ],
      "metadata": {
        "id": "Eb8-BkYtMT_j"
      }
    },
    {
      "cell_type": "code",
      "source": [
        "#list kolom numerik dan kategorik\n",
        "num_cols = ['age','balance','campaign','pdays','previous']\n",
        "cat_cols = ['job','marital','education','default','housing','loan','contact','day','month','poutcome']\n",
        "\n",
        "#cek nilai di kolom bertipe kategorik\n",
        "for i in cat_cols:\n",
        "  print(df_bank[i].unique())"
      ],
      "metadata": {
        "id": "pWKnDqyWGWDR"
      },
      "execution_count": null,
      "outputs": []
    },
    {
      "cell_type": "markdown",
      "source": [
        ""
      ],
      "metadata": {
        "id": "GCCpz3mFgMW3"
      }
    },
    {
      "cell_type": "markdown",
      "source": [
        "##Eksplorasi Data"
      ],
      "metadata": {
        "id": "YcLr6t2LlK7Q"
      }
    },
    {
      "cell_type": "markdown",
      "metadata": {
        "id": "mzRRMcUkB7Ch"
      },
      "source": [
        "### Distribusi target \n",
        "\n",
        "Salah satu hal yang penting diketahui adalah bagaimana distribusi target variabel, apakah dataset yang kita proses seimbang atau tidak."
      ]
    },
    {
      "cell_type": "code",
      "metadata": {
        "id": "bP1q5SGTF3S-"
      },
      "source": [
        "df_bank['deposit'].value_counts().plot.barh()"
      ],
      "execution_count": null,
      "outputs": []
    },
    {
      "cell_type": "markdown",
      "metadata": {
        "id": "2qAv5u5WBzKa"
      },
      "source": [
        "Ternyata jumlah `yes` dan `no` dalam dataset kita seimbang. \n",
        "\n",
        "Untuk data yang tidak seimbang, ada beberapa metode yang bisa dilakukan, diantaranya \n",
        "1. Memilih metrik yang tepat untuk evaluasinya\n",
        "2. Melakukan resampling : under/oversampling, resampling dengan rasio berbeda\n",
        "3. Menggunakan K-fold cross validation\n",
        "4. Menggunakan metode ensemble\n",
        "5. Melakukan klastering pada kelas yang jauh lebih besar, dan mengambil medoid-nya saja\n",
        "6. dll."
      ]
    },
    {
      "cell_type": "markdown",
      "source": [
        "###Distribusi kolom input\n",
        "\n",
        "Selanjutnya kita bisa melihat distribusi kolom input terhadap nilai target."
      ],
      "metadata": {
        "id": "PLUrcsNsM3Ff"
      }
    },
    {
      "cell_type": "code",
      "source": [
        "def plot_chart(xcol, ycol, dataframe):\n",
        "    ax=sns.countplot(x=xcol, hue=ycol, data=dataframe)\n",
        "    plt.xticks(rotation=90)\n",
        "    "
      ],
      "metadata": {
        "id": "TtYQp6HOM9S6"
      },
      "execution_count": null,
      "outputs": []
    },
    {
      "cell_type": "code",
      "source": [
        "plot_chart('job',\"deposit\",df_bank)"
      ],
      "metadata": {
        "id": "TOLZhyqFkNQI"
      },
      "execution_count": null,
      "outputs": []
    },
    {
      "cell_type": "code",
      "source": [
        "plot_chart('marital',\"deposit\",df_bank)"
      ],
      "metadata": {
        "id": "7E0ehlOZlETs"
      },
      "execution_count": null,
      "outputs": []
    },
    {
      "cell_type": "code",
      "source": [
        "plot_chart('education',\"deposit\",df_bank)"
      ],
      "metadata": {
        "id": "peomFBP1lRP1"
      },
      "execution_count": null,
      "outputs": []
    },
    {
      "cell_type": "code",
      "source": [
        "plot_chart('default',\"deposit\",df_bank)"
      ],
      "metadata": {
        "id": "Wf4358MPlYL3"
      },
      "execution_count": null,
      "outputs": []
    },
    {
      "cell_type": "code",
      "source": [
        "plot_chart('housing',\"deposit\",df_bank)"
      ],
      "metadata": {
        "id": "cfysDj4tlcSZ"
      },
      "execution_count": null,
      "outputs": []
    },
    {
      "cell_type": "code",
      "source": [
        "plot_chart('loan',\"deposit\",df_bank)"
      ],
      "metadata": {
        "id": "VIo_NQE5lfDI"
      },
      "execution_count": null,
      "outputs": []
    },
    {
      "cell_type": "code",
      "source": [
        "plot_chart('contact',\"deposit\",df_bank)"
      ],
      "metadata": {
        "id": "BdJZEV9blgp2"
      },
      "execution_count": null,
      "outputs": []
    },
    {
      "cell_type": "markdown",
      "source": [
        "###Hubungan antar variabel numerik\n",
        "\n",
        "Untuk melihat hubungan antar variabel numerik, kita bisa menghitung korelasi dan memvisualisasikannya dengan heatmap."
      ],
      "metadata": {
        "id": "-JLZ5kMbnHRI"
      }
    },
    {
      "cell_type": "code",
      "source": [
        "#compute correlation matrix\n",
        "corr = df_bank[num_cols].corr()\n",
        "\n",
        "plt.figure(figsize=(12,8))\n",
        "sns.heatmap(corr, cmap=\"RdBu_r\",annot=True)\n",
        "#plt.title('Correlation between Numeric Variables')"
      ],
      "metadata": {
        "id": "_Kbn2rZnnHgq"
      },
      "execution_count": null,
      "outputs": []
    },
    {
      "cell_type": "markdown",
      "source": [
        "##Transformasi variabel kategorik\n",
        "\n",
        "Scikit learn memerlukan input berupa array numerik, sehingga kita perlu mengubah variabel-variabel bertipe kategorik menjadi numerik dengan melakukan one-hot encoding.\n",
        "\n"
      ],
      "metadata": {
        "id": "FDZ5HfOCoVtG"
      }
    },
    {
      "cell_type": "markdown",
      "source": [
        "###Transform input features"
      ],
      "metadata": {
        "id": "MsWrwK9e2FHK"
      }
    },
    {
      "cell_type": "code",
      "source": [
        "enc = OneHotEncoder(handle_unknown='ignore') \n",
        "cat_cols = ['job','marital','education','default','housing','loan','contact','day','month','poutcome']"
      ],
      "metadata": {
        "id": "khI-SSvyoWJK"
      },
      "execution_count": null,
      "outputs": []
    },
    {
      "cell_type": "code",
      "source": [
        "# contoh one hot encoding untuk kolom marital status\n",
        "encoded = enc.fit_transform(df_bank[['marital']]).toarray() #encode dan ubah menjadi array\n",
        "\n",
        "print(df_bank.marital.unique())\n",
        "print('\\nBentuk Matrix setelah melakukan encoding 1 variable')\n",
        "print(encoded.shape)\n",
        "print('\\nNilai sebelum encoding (3 baris terakhir)')\n",
        "print(df_bank[['marital']].tail(3))\n",
        "print('\\nNilai setelah encoding (3 baris terakhir)')\n",
        "print(encoded[-3:, :]) #"
      ],
      "metadata": {
        "id": "WTNL727HoigJ"
      },
      "execution_count": null,
      "outputs": []
    },
    {
      "cell_type": "markdown",
      "source": [
        "Ubah seluruh variabel kategorik : "
      ],
      "metadata": {
        "id": "wrhjdQ70-RBv"
      }
    },
    {
      "cell_type": "code",
      "source": [
        "cat_cols.remove('marital')\n",
        "\n",
        "for col in cat_cols:\n",
        "  encoded = np.concatenate([encoded, enc.fit_transform(df_bank[[col]]).toarray()], axis = 1) \n",
        "\n",
        "print(\"Matriks fitur setelah encoding seluruh variabel kategorik:\")\n",
        "print(encoded.shape)\n",
        "\n",
        "print(\"\\nDua baris pertama:\")\n",
        "print(encoded[:2, :])"
      ],
      "metadata": {
        "id": "UWe1XKTf7PIR"
      },
      "execution_count": null,
      "outputs": []
    },
    {
      "cell_type": "markdown",
      "source": [
        "Menggabungkan dengan variabel-variabel numerik"
      ],
      "metadata": {
        "id": "693Z2ehVBU52"
      }
    },
    {
      "cell_type": "code",
      "source": [
        "num_cols = ['age','balance','campaign','pdays']#,'previous']\n",
        "\n",
        "numeric_columns = np.array(df_bank[num_cols])\n",
        "\n",
        "encoded = np.concatenate([encoded, numeric_columns], axis = 1)\n",
        "\n",
        "print(\"Matriks fitur setelah menggabungkan seluruh variabel:\")\n",
        "print(encoded.shape)\n",
        "print(\"\\nDua baris pertama:\")\n",
        "print(encoded[:2, :])"
      ],
      "metadata": {
        "id": "Ahl6m15WBTm7"
      },
      "execution_count": null,
      "outputs": []
    },
    {
      "cell_type": "markdown",
      "source": [
        "###Transform target\n",
        "\n",
        "Kita gunakan `labelBinarizer` untuk mengubah kolom target dari `'yes'/'no'` menjadi `1/0`"
      ],
      "metadata": {
        "id": "Ap-iA-rMtKle"
      }
    },
    {
      "cell_type": "code",
      "source": [
        "from sklearn import preprocessing\n",
        "lb = preprocessing.LabelBinarizer()\n",
        "encoded_target = lb.fit_transform(df_bank[['deposit']]).ravel()\n",
        "\n",
        "encoded_target[:3]"
      ],
      "metadata": {
        "id": "goA_NWZvazDk"
      },
      "execution_count": null,
      "outputs": []
    },
    {
      "cell_type": "markdown",
      "source": [
        "##Split dataset ke dalam train-test set\n",
        "\n"
      ],
      "metadata": {
        "id": "tfIdJu2_BxuT"
      }
    },
    {
      "cell_type": "code",
      "source": [
        "X_train, X_test, y_train, y_test = train_test_split(encoded , encoded_target, \n",
        "                                                    shuffle = True, \n",
        "                                                    test_size=0.2, \n",
        "                                                    random_state=1)\n",
        "\n",
        "# Show the Training and Testing Data\n",
        "print('Dimensi training feature:', X_train.shape)\n",
        "print('Dimensi testing feature:', X_test.shape)\n",
        "print('Dimensi training target:', y_train.shape)\n",
        "print('Dimensi training target:', y_test.shape)"
      ],
      "metadata": {
        "id": "0n48f-vmIrkF"
      },
      "execution_count": null,
      "outputs": []
    },
    {
      "cell_type": "markdown",
      "source": [
        "##Penskalaan variabel numerik\n",
        "\n",
        "Variabel numerik perlu diskalakan ulang sehingga memiliki rentang nilai yang serupa, agar perbedaan dalam rentang nilai tersebut tidak memengaruhi model training."
      ],
      "metadata": {
        "id": "sqx8vRS7JkbO"
      }
    },
    {
      "cell_type": "code",
      "source": [
        "#variabel numerik yang memiliki rentang berbeda-beda\n",
        "df_bank[num_cols].head(5)"
      ],
      "metadata": {
        "id": "5X1UlIt8Juva"
      },
      "execution_count": null,
      "outputs": []
    },
    {
      "cell_type": "markdown",
      "source": [
        "Variabel numerik ada di kolom 75 (base 0) dan seterusnya, sehingga kita akan melakukan scaling terhadap `X_train` maupun `X_test` mulai kolom ke 75.\n",
        "\n",
        "Karena Regresi Logistik memerlukan asumsi data terdistribusi normal, maka kita akan menggunakan `StandardScaler` untuk melakukan standarisasi data, yaitu mengeset mean ke 0 dan standard deviasi 1. \n",
        "\n",
        "Perhatikan bahwa scaler hanya di-fit pada data training, sedangkan data test diskalakan menggunakan parameter dari data training. Hal ini dilakukan untuk menghindari data leakage pada test set."
      ],
      "metadata": {
        "id": "rPEcxGRxvIF9"
      }
    },
    {
      "cell_type": "code",
      "source": [
        "\n",
        "scaler = StandardScaler().fit(X_train[:,75:]) \n",
        "\n",
        "X_train[:,75:] = scaler.transform(X_train[:,75:])\n",
        "X_test[:,75:] = scaler.transform(X_test[:,75:])\n",
        "\n",
        "\n",
        "print(\"Dimensi data training sesudah dilakukan penskalaan :\\n\", X_train.shape)\n",
        "print(\"Dimensi data test sesudah dilakukan penskalaan :\\n\", X_test.shape)\n",
        "\n",
        "print(\"Dua baris pertama sesudah dilakukan penskalaan :\\n\", X_train[:2,:])"
      ],
      "metadata": {
        "id": "q0XAIymLJ3Uz"
      },
      "execution_count": null,
      "outputs": []
    },
    {
      "cell_type": "markdown",
      "source": [
        "##Melatih model : Regresi Logistik"
      ],
      "metadata": {
        "id": "R2SyaTk5Y6t7"
      }
    },
    {
      "cell_type": "markdown",
      "source": [
        "Kita akan menggunakan model regresi logistik untuk melakukan prediksi terhadap apakah seorang nasabah akan melakukan deposit. Regresi logistik ada dalam package `linear_model`"
      ],
      "metadata": {
        "id": "9oy28rvnseqV"
      }
    },
    {
      "cell_type": "code",
      "source": [
        "from sklearn import linear_model\n",
        "\n",
        "lm = linear_model.LogisticRegression(max_iter=1000)\n",
        "model = lm.fit(X_train, y_train)"
      ],
      "metadata": {
        "id": "JDAezJj8MDCp"
      },
      "execution_count": null,
      "outputs": []
    },
    {
      "cell_type": "markdown",
      "source": [
        "##Evaluasi Model\n",
        "\n",
        "Sebelum melakukan evaluasi, kita perlu menentukan dulu metriks apa yang paling relevan untuk problem yang akan kita pecahkan.\n",
        "\n",
        "Untuk kasus ini, kita tertarik pada nasabah yang benar-benar melakukan deposit (Actual Positive), karena kegagalan memprediksi nasabah yang melakukan deposit (False Negative) dapat dilihat sebagai 'lost opportunity'. \n",
        "\n",
        "Untuk itu kita akan fokus pada berapa banyak data positif yang berhasil diprediksi (*True Positive*), dibanding seluruh data positif sebenarnya (*True Positive + False Negative*).\n",
        "\n",
        "<br><div align=\"center\">\n",
        "$\\frac{TP}{TP + FN} = Recall = True Positive Rate$\n",
        "</div><br>\n",
        "\n",
        "\n",
        "\n"
      ],
      "metadata": {
        "id": "5S-AuERLnjHA"
      }
    },
    {
      "cell_type": "code",
      "metadata": {
        "id": "IHBllCJJThEz"
      },
      "source": [
        "from sklearn import metrics\n",
        "\n",
        "# Lakukan prediksi terhadap test set\n",
        "y_pred = model.predict(X_test)\n",
        "\n",
        "# Hitung akurasi, presisi, recall, dan f1-score\n",
        "print('Akurasi:', metrics.accuracy_score(y_test, y_pred))\n",
        "print('Presisi:', metrics.precision_score(y_test, y_pred))\n",
        "print('Recall:', metrics.recall_score(y_test, y_pred))\n",
        "print('F1 Score:', metrics.f1_score(y_test, y_pred))\n"
      ],
      "execution_count": null,
      "outputs": []
    },
    {
      "cell_type": "code",
      "source": [
        "# Display confusion matrix\n",
        "cm = metrics.confusion_matrix(y_test, y_pred)\n",
        "from sklearn.metrics import ConfusionMatrixDisplay\n",
        "print('Confusion Matrix:\\n', cm)\n",
        "\n",
        "disp = ConfusionMatrixDisplay(confusion_matrix=cm, display_labels=model.classes_)\n",
        "disp.plot()\n",
        "plt.show()"
      ],
      "metadata": {
        "id": "-wVte-7C0Sap"
      },
      "execution_count": null,
      "outputs": []
    },
    {
      "cell_type": "markdown",
      "source": [
        "Plot kurva ROC untuk melihat kinerja model pada tiap-tiap threshold, sebagai fungsi FPR-TPR"
      ],
      "metadata": {
        "id": "HMQ5Db5ts4k7"
      }
    },
    {
      "cell_type": "code",
      "source": [
        "#Prediksi kelas dan nilai probabilitas tiap kelas\n",
        "y_proba = model.predict_proba(X_test)\n",
        "\n",
        "fpr, tpr, thresh = metrics.roc_curve(y_test, y_proba[:, 1])\n",
        "roc_auc = metrics.auc(fpr, tpr)\n",
        "\n",
        "display = metrics.RocCurveDisplay(fpr=fpr, tpr=tpr, roc_auc=roc_auc,\n",
        "                                   estimator_name='Logistic Regression')\n",
        "display.plot()\n",
        "plt.plot([0, 1], [0, 1], color = 'g')\n",
        "plt.show()"
      ],
      "metadata": {
        "id": "IBaCsbhjqIht"
      },
      "execution_count": null,
      "outputs": []
    }
  ]
}