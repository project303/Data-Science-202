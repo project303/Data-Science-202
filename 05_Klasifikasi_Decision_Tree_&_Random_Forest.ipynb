{
  "nbformat": 4,
  "nbformat_minor": 0,
  "metadata": {
    "colab": {
      "name": "05 - Klasifikasi  : Decision Tree & Random Forest",
      "provenance": [],
      "collapsed_sections": []
    },
    "kernelspec": {
      "name": "python3",
      "display_name": "Python 3"
    }
  },
  "cells": [
    {
      "cell_type": "markdown",
      "metadata": {
        "id": "xL-Nk3m_eQsX"
      },
      "source": [
        "# Introduction\n",
        "\n",
        "Kita akan menggunakan [Bank Marketing Dataset](https://www.kaggle.com/datasets/janiobachmann/bank-marketing-dataset) dari Kaggle. "
      ]
    },
    {
      "cell_type": "code",
      "metadata": {
        "id": "uI1mGf-RdvlD"
      },
      "source": [
        "import pandas as pd\n",
        "import numpy as np\n",
        "import warnings\n",
        "import seaborn as sns\n",
        "import matplotlib.pyplot as plt\n",
        "\n",
        "from sklearn.preprocessing import OneHotEncoder\n",
        "from sklearn.preprocessing import StandardScaler\n",
        "from sklearn.model_selection import train_test_split\n",
        "\n",
        "\n",
        "#plt.style.use('seaborn')"
      ],
      "execution_count": null,
      "outputs": []
    },
    {
      "cell_type": "markdown",
      "metadata": {
        "id": "1Ml3cXrzkuZ0"
      },
      "source": [
        "# Data Preprocessing\n"
      ]
    },
    {
      "cell_type": "markdown",
      "metadata": {
        "id": "Yf8uFbzy57qd"
      },
      "source": [
        "## Loading data\n",
        "\n",
        "Dokumentasi dataset dapat dilihat [di sini](https://archive.ics.uci.edu/ml/datasets/Bank+Marketing) \n",
        "\n",
        "Deskripsi kolom adalah sebagai berikut:\n",
        "\n",
        "Variabel input :\n",
        "1. age (numeric)\n",
        "2. job : type of job (categorical: `'admin.','blue-collar','entrepreneur','housemaid','management','retired','self-employed','services','student','technician','unemployed','unknown'`)\n",
        "3. marital : marital status (categorical: `'divorced','married','single','unknown'`; note: `'divorced'` means divorced or widowed)\n",
        "4. education (categorical: `'basic.4y','basic.6y','basic.9y','high.school','illiterate','professional.course','university.degree','unknown'`)\n",
        "5. default: has credit in default? (categorical: `'no','yes','unknown'`)\n",
        "6. housing: has housing loan? (categorical: `'no','yes','unknown'`)\n",
        "7. loan: has personal loan? (categorical: `'no','yes','unknown'`)\n",
        "8. contact: contact communication type (categorical: `'cellular','telephone'`)\n",
        "9. month: last contact month of year (categorical: `'jan', 'feb', 'mar', ..., 'nov', 'dec'`)\n",
        "10. day_of_week: last contact day of the week (categorical: `'mon','tue','wed','thu','fri'`)\n",
        "11. duration: last contact duration, in seconds (numeric). Important note: this attribute highly affects the output target (e.g., if duration=0 then y='no'). Yet, the duration is not known before a call is performed. Also, after the end of the call y is obviously known. Thus, this input should only be included for benchmark purposes and should be discarded if the intention is to have a realistic predictive model.\n",
        "12. campaign: number of contacts performed during this campaign and for this client (numeric, includes last contact)\n",
        "13. pdays: number of days that passed by after the client was last contacted from a previous campaign (numeric; 999 means client was not previously contacted)\n",
        "14. previous: number of contacts performed before this campaign and for this client (numeric)\n",
        "15. poutcome: outcome of the previous marketing campaign (categorical: `'failure','nonexistent','success'`)\n",
        "\n",
        "Target :\n",
        "21. deposit. has the client subscribed a term deposit? (binary: 'yes','no')"
      ]
    },
    {
      "cell_type": "code",
      "metadata": {
        "id": "qkY0_i5O586w"
      },
      "source": [
        "df_bank = pd.read_csv('https://raw.githubusercontent.com/urfie/DataAnalytics/main/bank.csv')\n",
        "\n",
        "print('Dataframe shape:', df_bank.shape)\n",
        "df_bank.head()"
      ],
      "execution_count": null,
      "outputs": []
    },
    {
      "cell_type": "markdown",
      "source": [
        "##Data Cleansing"
      ],
      "metadata": {
        "id": "Mttmk9a3MrjU"
      }
    },
    {
      "cell_type": "code",
      "source": [
        "df_bank = df_bank.drop('duration', axis=1)\n",
        "\n",
        "print('Dataframe shape:', df_bank.shape)\n",
        "df_bank.head()"
      ],
      "metadata": {
        "id": "jriqOATqkxLz"
      },
      "execution_count": null,
      "outputs": []
    },
    {
      "cell_type": "markdown",
      "source": [
        "##Transformasi variabel kategorik"
      ],
      "metadata": {
        "id": "3UTY3BIbyVF9"
      }
    },
    {
      "cell_type": "markdown",
      "source": [
        "###Transform input features"
      ],
      "metadata": {
        "id": "MsWrwK9e2FHK"
      }
    },
    {
      "cell_type": "code",
      "source": [
        "enc = OneHotEncoder(handle_unknown='ignore') \n",
        "cat_cols = ['job','marital','education','default','housing','loan','contact','day','month','poutcome']"
      ],
      "metadata": {
        "id": "khI-SSvyoWJK"
      },
      "execution_count": null,
      "outputs": []
    },
    {
      "cell_type": "code",
      "source": [
        "# contoh one hot encoding untuk kolom marital status\n",
        "encoded = enc.fit_transform(df_bank[['marital']]).toarray() #encode dan ubah menjadi array"
      ],
      "metadata": {
        "id": "WTNL727HoigJ"
      },
      "execution_count": null,
      "outputs": []
    },
    {
      "cell_type": "markdown",
      "source": [
        "Ubah seluruh variabel kategorik : "
      ],
      "metadata": {
        "id": "wrhjdQ70-RBv"
      }
    },
    {
      "cell_type": "code",
      "source": [
        "cat_cols.remove('marital')\n",
        "\n",
        "for col in cat_cols:\n",
        "  encoded = np.concatenate([encoded, enc.fit_transform(df_bank[[col]]).toarray()], axis = 1) "
      ],
      "metadata": {
        "id": "UWe1XKTf7PIR"
      },
      "execution_count": null,
      "outputs": []
    },
    {
      "cell_type": "markdown",
      "source": [
        "Menggabungkan dengan variabel-variabel numerik"
      ],
      "metadata": {
        "id": "693Z2ehVBU52"
      }
    },
    {
      "cell_type": "code",
      "source": [
        "num_cols = ['age','balance','campaign','pdays']#,'previous']\n",
        "\n",
        "numeric_columns = np.array(df_bank[num_cols])\n",
        "\n",
        "encoded = np.concatenate([encoded, numeric_columns], axis = 1)"
      ],
      "metadata": {
        "id": "Ahl6m15WBTm7"
      },
      "execution_count": null,
      "outputs": []
    },
    {
      "cell_type": "markdown",
      "source": [
        "###Transform target\n",
        "\n",
        "Kita gunakan `labelBinarizer` untuk mengubah kolom target dari `'yes'/'no'` menjadi `1/0`"
      ],
      "metadata": {
        "id": "Ap-iA-rMtKle"
      }
    },
    {
      "cell_type": "code",
      "source": [
        "from sklearn import preprocessing\n",
        "lb = preprocessing.LabelBinarizer()\n",
        "encoded_target = lb.fit_transform(df_bank[['deposit']]).ravel()"
      ],
      "metadata": {
        "id": "goA_NWZvazDk"
      },
      "execution_count": null,
      "outputs": []
    },
    {
      "cell_type": "markdown",
      "source": [
        "##Split dataset ke dalam train-test set\n",
        "\n"
      ],
      "metadata": {
        "id": "tfIdJu2_BxuT"
      }
    },
    {
      "cell_type": "code",
      "source": [
        "X_train, X_test, y_train, y_test = train_test_split(encoded , encoded_target, \n",
        "                                                    shuffle = True, \n",
        "                                                    test_size=0.2, \n",
        "                                                    random_state=1)\n",
        "\n",
        "# Show the Training and Testing Data\n",
        "print('Dimensi training feature:', X_train.shape)\n",
        "print('Dimensi testing feature:', X_test.shape)\n",
        "print('Dimensi training target:', y_train.shape)\n",
        "print('Dimensi training target:', y_test.shape)"
      ],
      "metadata": {
        "id": "0n48f-vmIrkF"
      },
      "execution_count": null,
      "outputs": []
    },
    {
      "cell_type": "markdown",
      "source": [
        "##Penskalaan variabel numerik\n",
        "\n",
        "Decision tree dan random forest termasuk algoritma yang robust terhadap perbedaan skala fitur, sehingga kita tidak perlu melakukan penskalaan variabel numerik."
      ],
      "metadata": {
        "id": "sqx8vRS7JkbO"
      }
    },
    {
      "cell_type": "code",
      "source": [
        "#scaler = StandardScaler().fit(X_train[:,75:]) \n",
        "\n",
        "#X_train[:,75:] = scaler.transform(X_train[:,75:])\n",
        "#X_test[:,75:] = scaler.transform(X_test[:,75:])"
      ],
      "metadata": {
        "id": "q0XAIymLJ3Uz"
      },
      "execution_count": null,
      "outputs": []
    },
    {
      "cell_type": "markdown",
      "source": [
        "##Melatih model : Decision Tree"
      ],
      "metadata": {
        "id": "R2SyaTk5Y6t7"
      }
    },
    {
      "cell_type": "markdown",
      "source": [
        "Kita akan menggunakan model `decision tree` untuk melakukan prediksi. Decision Tree ada dalam package `tree`"
      ],
      "metadata": {
        "id": "9oy28rvnseqV"
      }
    },
    {
      "cell_type": "code",
      "source": [
        "from sklearn.tree import DecisionTreeClassifier\n",
        "\n",
        "tree = DecisionTreeClassifier().fit(X_train, y_train)"
      ],
      "metadata": {
        "id": "JDAezJj8MDCp"
      },
      "execution_count": null,
      "outputs": []
    },
    {
      "cell_type": "markdown",
      "source": [
        "##Evaluasi Model\n",
        "\n"
      ],
      "metadata": {
        "id": "5S-AuERLnjHA"
      }
    },
    {
      "cell_type": "code",
      "metadata": {
        "id": "IHBllCJJThEz"
      },
      "source": [
        "from sklearn import metrics\n",
        "\n",
        "\n",
        "# Lakukan prediksi terhadap test set\n",
        "y_pred = tree.predict(X_test)\n",
        "\n",
        "# Hitung akurasi, presisi, recall, dan f1-score\n",
        "print('Akurasi:', metrics.accuracy_score(y_test, y_pred))\n",
        "print('Presisi:', metrics.precision_score(y_test, y_pred))\n",
        "print('Recall:', metrics.recall_score(y_test, y_pred))\n",
        "print('F1 Score:', metrics.f1_score(y_test, y_pred))\n",
        "\n"
      ],
      "execution_count": null,
      "outputs": []
    },
    {
      "cell_type": "code",
      "source": [
        "# Display confusion matrix\n",
        "cm = metrics.confusion_matrix(y_test, y_pred)\n",
        "from sklearn.metrics import ConfusionMatrixDisplay\n",
        "print('Confusion Matrix:\\n', cm)\n",
        "\n",
        "disp = ConfusionMatrixDisplay(confusion_matrix=cm, display_labels=tree.classes_)\n",
        "disp.plot()\n",
        "plt.show()"
      ],
      "metadata": {
        "id": "-wVte-7C0Sap"
      },
      "execution_count": null,
      "outputs": []
    },
    {
      "cell_type": "markdown",
      "source": [
        "Plot kurva ROC untuk melihat kinerja model pada tiap-tiap threshold, sebagai fungsi FPR-TPR"
      ],
      "metadata": {
        "id": "HMQ5Db5ts4k7"
      }
    },
    {
      "cell_type": "code",
      "source": [
        "#Prediksi kelas dan nilai probabilitas tiap kelas\n",
        "y_proba = tree.predict_proba(X_test)\n",
        "\n",
        "fpr, tpr, thresh = metrics.roc_curve(y_test, y_proba[:, 1])\n",
        "roc_auc = metrics.auc(fpr, tpr)\n",
        "\n",
        "display = metrics.RocCurveDisplay(fpr=fpr, tpr=tpr, roc_auc=roc_auc,\n",
        "                                   estimator_name='Decision Tree')\n",
        "display.plot()\n",
        "plt.plot([0, 1], [0, 1], color = 'g')\n",
        "plt.show()"
      ],
      "metadata": {
        "id": "IBaCsbhjqIht"
      },
      "execution_count": null,
      "outputs": []
    },
    {
      "cell_type": "markdown",
      "source": [
        "##Melatih Model : Random Forest"
      ],
      "metadata": {
        "id": "s10ls54z5bn5"
      }
    },
    {
      "cell_type": "code",
      "source": [
        "from sklearn.ensemble import RandomForestClassifier\n",
        "\n",
        "rf = RandomForestClassifier(oob_score=True)\n",
        "rf.fit(X_train, y_train)\n",
        "y_pred = rf.predict(X_test)"
      ],
      "metadata": {
        "id": "IMy8tcBRn1ZY"
      },
      "execution_count": null,
      "outputs": []
    },
    {
      "cell_type": "markdown",
      "source": [
        "##Evaluasi Model"
      ],
      "metadata": {
        "id": "E9MryDYZ5hmX"
      }
    },
    {
      "cell_type": "code",
      "source": [
        "# Lakukan prediksi terhadap test set\n",
        "y_pred = rf.predict(X_test)\n",
        "\n",
        "# Hitung akurasi, presisi, recall, dan f1-score\n",
        "print('Akurasi:', metrics.accuracy_score(y_test, y_pred))\n",
        "print('Presisi:', metrics.precision_score(y_test, y_pred))\n",
        "print('Recall:', metrics.recall_score(y_test, y_pred))\n",
        "print('F1 Score:', metrics.f1_score(y_test, y_pred))\n",
        "\n",
        "print('OOB Score:', rf.oob_score_)\n"
      ],
      "metadata": {
        "id": "zGCu-hwIn6f2"
      },
      "execution_count": null,
      "outputs": []
    },
    {
      "cell_type": "code",
      "source": [
        "# Display confusion matrix\n",
        "cm = metrics.confusion_matrix(y_test, y_pred)\n",
        "print('Confusion Matrix:\\n', cm)\n",
        "\n",
        "disp = ConfusionMatrixDisplay(confusion_matrix=cm, display_labels=rf.classes_)\n",
        "disp.plot()\n",
        "plt.show()"
      ],
      "metadata": {
        "id": "GUpWiEAYoAGK"
      },
      "execution_count": null,
      "outputs": []
    },
    {
      "cell_type": "code",
      "source": [
        "#Prediksi kelas dan nilai probabilitas tiap kelas\n",
        "y_proba = rf.predict_proba(X_test)\n",
        "\n",
        "fpr, tpr, thresh = metrics.roc_curve(y_test, y_proba[::, 1])\n",
        "roc_auc = metrics.auc(fpr, tpr)\n",
        "\n",
        "auc = metrics.roc_auc_score(y_test, y_proba[::, 1])\n",
        "\n",
        "display = metrics.RocCurveDisplay(fpr=fpr, tpr=tpr, roc_auc=roc_auc,\n",
        "                                   estimator_name='Random Forest')\n",
        "display.plot()\n",
        "plt.plot([0, 1], [0, 1], color = 'g')\n",
        "plt.show()"
      ],
      "metadata": {
        "id": "EvO9fCpIoC8y"
      },
      "execution_count": null,
      "outputs": []
    },
    {
      "cell_type": "code",
      "source": [
        ""
      ],
      "metadata": {
        "id": "-17iQ06Nz4-f"
      },
      "execution_count": null,
      "outputs": []
    }
  ]
}